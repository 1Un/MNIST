{
  "nbformat": 4,
  "nbformat_minor": 0,
  "metadata": {
    "accelerator": "GPU",
    "colab": {
      "name": "Simple_cnn_mnist_lenet5.ipynb",
      "provenance": [],
      "collapsed_sections": [],
      "include_colab_link": true
    },
    "kernelspec": {
      "name": "python3",
      "display_name": "Python 3"
    },
    "language_info": {
      "codemirror_mode": {
        "name": "ipython",
        "version": 3
      },
      "file_extension": ".py",
      "mimetype": "text/x-python",
      "name": "python",
      "nbconvert_exporter": "python",
      "pygments_lexer": "ipython3",
      "version": "3.6.8"
    }
  },
  "cells": [
    {
      "cell_type": "markdown",
      "metadata": {
        "id": "view-in-github",
        "colab_type": "text"
      },
      "source": [
        "<a href=\"https://colab.research.google.com/github/1Un/MNIST/blob/master/Simple_cnn_mnist_lenet5.ipynb\" target=\"_parent\"><img src=\"https://colab.research.google.com/assets/colab-badge.svg\" alt=\"Open In Colab\"/></a>"
      ]
    },
    {
      "cell_type": "markdown",
      "metadata": {
        "colab_type": "text",
        "id": "cdjn6pICZMoM"
      },
      "source": [
        "![alt text](https://engmrk.com/wp-content/uploads/2018/09/LeNet_Original_Image.jpg)"
      ]
    },
    {
      "cell_type": "markdown",
      "metadata": {
        "colab_type": "text",
        "id": "14icu4JgZXqM"
      },
      "source": [
        "![alt text](https://engmrk.com/wp-content/uploads/2018/09/LeNEt_Summary_Table.jpg)"
      ]
    },
    {
      "cell_type": "code",
      "metadata": {
        "colab_type": "code",
        "id": "85_HkTjcNZeg",
        "colab": {}
      },
      "source": [
        "import torch\n",
        "import random\n",
        "import numpy as np\n",
        "import torchvision.datasets\n",
        "MNIST_train = torchvision.datasets.MNIST('./', download=True, train=True)\n",
        "MNIST_test = torchvision.datasets.MNIST('./', download=True, train=False)\n"
      ],
      "execution_count": 0,
      "outputs": []
    },
    {
      "cell_type": "code",
      "metadata": {
        "colab_type": "code",
        "id": "nyrpGOtPNZeq",
        "outputId": "76708d3a-4dd2-4222-e0b9-64d458ae014b",
        "colab": {
          "base_uri": "https://localhost:8080/",
          "height": 173
        }
      },
      "source": [
        "X_train = MNIST_train.train_data\n",
        "y_train = MNIST_train.train_labels\n",
        "X_test = MNIST_test.test_data\n",
        "y_test = MNIST_test.test_labels"
      ],
      "execution_count": 6,
      "outputs": [
        {
          "output_type": "stream",
          "text": [
            "/usr/local/lib/python3.6/dist-packages/torchvision/datasets/mnist.py:55: UserWarning: train_data has been renamed data\n",
            "  warnings.warn(\"train_data has been renamed data\")\n",
            "/usr/local/lib/python3.6/dist-packages/torchvision/datasets/mnist.py:45: UserWarning: train_labels has been renamed targets\n",
            "  warnings.warn(\"train_labels has been renamed targets\")\n",
            "/usr/local/lib/python3.6/dist-packages/torchvision/datasets/mnist.py:60: UserWarning: test_data has been renamed data\n",
            "  warnings.warn(\"test_data has been renamed data\")\n",
            "/usr/local/lib/python3.6/dist-packages/torchvision/datasets/mnist.py:50: UserWarning: test_labels has been renamed targets\n",
            "  warnings.warn(\"test_labels has been renamed targets\")\n"
          ],
          "name": "stderr"
        }
      ]
    },
    {
      "cell_type": "code",
      "metadata": {
        "colab_type": "code",
        "id": "f_TmOTWdNZet",
        "outputId": "f73d1763-038d-460c-e44c-184c20969d38",
        "colab": {
          "base_uri": "https://localhost:8080/",
          "height": 34
        }
      },
      "source": [
        "len(y_train), len(y_test)"
      ],
      "execution_count": 7,
      "outputs": [
        {
          "output_type": "execute_result",
          "data": {
            "text/plain": [
              "(60000, 10000)"
            ]
          },
          "metadata": {
            "tags": []
          },
          "execution_count": 7
        }
      ]
    },
    {
      "cell_type": "code",
      "metadata": {
        "colab_type": "code",
        "id": "Zd-E4vIpNZe1",
        "outputId": "2d63c8a6-36d8-4102-d3c6-60bedeb99c3c",
        "colab": {
          "base_uri": "https://localhost:8080/",
          "height": 282
        }
      },
      "source": [
        "import matplotlib.pyplot as plt\n",
        "plt.imshow(X_train[0, :, :])\n",
        "plt.show()\n",
        "print(y_train[0])"
      ],
      "execution_count": 8,
      "outputs": [
        {
          "output_type": "display_data",
          "data": {
            "image/png": "[encoded data removed]",
            "text/plain": [
              "<Figure size 432x288 with 1 Axes>"
            ]
          },
          "metadata": {
            "tags": [],
            "needs_background": "light"
          }
        },
        {
          "output_type": "stream",
          "text": [
            "tensor(5)\n"
          ],
          "name": "stdout"
        }
      ]
    },
    {
      "cell_type": "code",
      "metadata": {
        "id": "s3wxWljU8fJf",
        "colab_type": "code",
        "outputId": "f465a710-7c10-413b-a89b-7061177ed04e",
        "colab": {
          "base_uri": "https://localhost:8080/",
          "height": 34
        }
      },
      "source": [
        "X_train.shape\n"
      ],
      "execution_count": 9,
      "outputs": [
        {
          "output_type": "execute_result",
          "data": {
            "text/plain": [
              "torch.Size([60000, 28, 28])"
            ]
          },
          "metadata": {
            "tags": []
          },
          "execution_count": 9
        }
      ]
    },
    {
      "cell_type": "code",
      "metadata": {
        "colab_type": "code",
        "id": "Tf9LiDGuNZe6",
        "colab": {}
      },
      "source": [
        "X_train = X_train.unsqueeze(1).float()\n",
        "X_test = X_test.unsqueeze(1).float()"
      ],
      "execution_count": 0,
      "outputs": []
    },
    {
      "cell_type": "code",
      "metadata": {
        "colab_type": "code",
        "id": "kxKAhEYHNZe-",
        "outputId": "72278527-6c0d-4e85-9fc8-61313772c6f9",
        "colab": {
          "base_uri": "https://localhost:8080/",
          "height": 34
        }
      },
      "source": [
        "X_train.shape\n",
        "# отличие от полносвязанной сети, которая видела картинку как один вектор длинный,\n",
        "# мы хотим в конволюционную сеть передавать картинку как трёхмерный тензор.\n",
        "# Первый канал -- это глубина картинки, в черно-белой картинке это 1\n",
        "# канал с яркостью серого пикселя. А в RGB картинке будут RGB каналы.\n",
        "# Соответственно, мы должны нашу картинку, которая на вход пришла (она просто \"28 на 28\"),\n",
        "# разжать до \"1 на 28 на 28\". Вот мы это и делаем -- мы делаем X_train.unsqueeze,\n",
        "# а здесь ставим индекс: \"а в каком же измерении мы хотим разжать\".\n",
        "# То есть X_train у нас -- тензор из 60 000 картинок 28 на 28,\n",
        "# а мы хотим чтобы было 60 000 на 1 на 28 на 28, и то же самое мы делаем с тестом."
      ],
      "execution_count": 11,
      "outputs": [
        {
          "output_type": "execute_result",
          "data": {
            "text/plain": [
              "torch.Size([60000, 1, 28, 28])"
            ]
          },
          "metadata": {
            "tags": []
          },
          "execution_count": 11
        }
      ]
    },
    {
      "cell_type": "code",
      "metadata": {
        "colab_type": "code",
        "id": "xhsw9soDODel",
        "colab": {}
      },
      "source": [
        "class LeNet5(torch.nn.Module):\n",
        "    def __init__(self,neurons):\n",
        "        super(LeNet5, self).__init__()\n",
        "        #conv 2d называется так как матрица у нас двумерная  \n",
        "        self.conv1 = torch.nn.Conv2d(\n",
        "            in_channels=1, out_channels=6, kernel_size=5, padding=2)\n",
        "        self.act1  = torch.nn.Tanh()\n",
        "        self.pool1 = torch.nn.AvgPool2d(kernel_size=2, stride=2)\n",
        "       \n",
        "        self.conv2 = torch.nn.Conv2d(\n",
        "            in_channels=6, out_channels=8, kernel_size=5, padding=0)#16, kernel_size=5, padding=0)\n",
        "        self.act2  = torch.nn.Tanh()\n",
        "        self.pool2 = torch.nn.AvgPool2d(kernel_size=2, stride=2)\n",
        "        \n",
        "        #изображение в 1 вектор растянем в forward а пока в конструкторе прдеставим что это уже сделано\n",
        "        self.fc1   = torch.nn.Linear(5 * 5 *8,10) #16, neurons)\n",
        "        #self.act3  = torch.nn.Tanh()\n",
        "        \n",
        "        # self.fc2   = torch.nn.Linear(neurons, neurons-36)\n",
        "        # self.act4  = torch.nn.Tanh()\n",
        "        \n",
        "        #self.fc3   = torch.nn.Linear(neurons, 10)\n",
        "    \n",
        "    #x - входной тензор, т.е. батч из картинок \n",
        "    def forward(self, x):\n",
        "        \n",
        "        x = self.conv1(x)\n",
        "        x = self.act1(x)\n",
        "        x = self.pool1(x)\n",
        "        \n",
        "        x = self.conv2(x)\n",
        "        x = self.act2(x)\n",
        "        x = self.pool2(x)\n",
        "        \n",
        "        #преобразуем наш тенхор к нужной размерности x.size(0) - размер батча \n",
        "        #а дальше тензор одномерный очевидно что бы получить этот размер надо\n",
        "        #просто перемножить 3 размерности\n",
        "        x = x.view(x.size(0), x.size(1) * x.size(2) * x.size(3))\n",
        "\n",
        "        x = self.fc1(x)\n",
        "        #x = self.act3(x)\n",
        "        # x = self.fc2(x)\n",
        "        # x = self.act4(x)\n",
        "        #x = self.fc3(x)\n",
        "        \n",
        "        return x\n",
        "    \n"
      ],
      "execution_count": 0,
      "outputs": []
    },
    {
      "cell_type": "code",
      "metadata": {
        "colab_type": "code",
        "id": "XfA9gqSdNZfQ",
        "colab": {}
      },
      "source": [
        "# def sum_par(model):\n",
        "#   s=0\n",
        "#   for i in model.parameters():\n",
        "#     #print(i)\n",
        "#     print(len(i.reshape(-1)))\n",
        "#     s+=len(i.reshape(-1))\n",
        "#   return s\n",
        "# print('sum=',sum_par(lenet5))\n",
        "#========\n",
        "\n",
        "# lenet5= LeNet5()\n",
        "# import torchsummary\n",
        "# print(\"Все параметры сети:\")\n",
        "# torchsummary.summary(lenet5.cuda(),(1,28,28))\n",
        "# #(1,28,28) - размер входного изображения \n",
        "\n",
        "\n",
        "def study(lenet5,X_test,y_test,X_train,y_train,batch_size = 5000):  \n",
        "  #!nvidia-smi\n",
        "  device = torch.device('cuda:0' if torch.cuda.is_available() else 'cpu')\n",
        "  lenet5 = lenet5.to(device)\n",
        "  loss = torch.nn.CrossEntropyLoss()\n",
        "  optimizer = torch.optim.Adam(lenet5.parameters(), lr=1.0e-3)\n",
        "  \n",
        "\n",
        "  test_accuracy_history = []\n",
        "  test_loss_history = []\n",
        "\n",
        "  X_test = X_test.to(device)\n",
        "  y_test = y_test.to(device)\n",
        "\n",
        "  for epoch in range(100):\n",
        "      order = np.random.permutation(len(X_train))\n",
        "      for start_index in range(0, len(X_train), batch_size):\n",
        "          optimizer.zero_grad()\n",
        "          \n",
        "          batch_indexes = order[start_index:start_index+batch_size]\n",
        "          \n",
        "          X_batch = X_train[batch_indexes].to(device)\n",
        "          y_batch = y_train[batch_indexes].to(device)\n",
        "          \n",
        "          preds = lenet5.forward(X_batch) \n",
        "          \n",
        "          loss_value = loss(preds, y_batch)\n",
        "          loss_value.backward()\n",
        "          \n",
        "          optimizer.step()\n",
        "          \n",
        "      test_preds = lenet5.forward(X_test)\n",
        "      test_loss_history.append(loss(test_preds, y_test).data.cpu())\n",
        "\n",
        "      accuracy = (test_preds.argmax(dim=1) == y_test).float().mean().data.cpu()\n",
        "      test_accuracy_history.append(accuracy)\n",
        "\n",
        "      if epoch%5==0:\n",
        "        print('epoch=',epoch,'\\taccuracy=',accuracy)\n",
        "  return test_loss_history,test_accuracy_history\n",
        "      "
      ],
      "execution_count": 0,
      "outputs": []
    },
    {
      "cell_type": "code",
      "metadata": {
        "id": "EOPJWXnfU1zL",
        "colab_type": "code",
        "outputId": "7906f77f-1885-423c-e656-56d128fff89b",
        "colab": {
          "base_uri": "https://localhost:8080/",
          "height": 986
        }
      },
      "source": [
        "test_loss_history=[]\n",
        "test_accuracy_history=[]\n",
        "!nvidia-smi\n",
        "#for i in range(64,9,-2):\n",
        "lenet5= LeNet5(10)#i)  \n",
        "import torchsummary\n",
        "print(\"Все параметры сети:\")\n",
        "torchsummary.summary(lenet5.cuda(),(1,28,28))\n",
        "#print('=====',i,'=====')\n",
        "test_loss_history1,test_accuracy_history1=study(lenet5,X_test,y_test,X_train,y_train,batch_size = 5000)\n",
        "test_loss_history.append(test_loss_history1)\n",
        "test_accuracy_history.append(test_accuracy_history1)"
      ],
      "execution_count": 21,
      "outputs": [
        {
          "output_type": "stream",
          "text": [
            "Mon Apr 27 12:20:36 2020       \n",
            "+-----------------------------------------------------------------------------+\n",
            "| NVIDIA-SMI 440.64.00    Driver Version: 418.67       CUDA Version: 10.1     |\n",
            "|-------------------------------+----------------------+----------------------+\n",
            "| GPU  Name        Persistence-M| Bus-Id        Disp.A | Volatile Uncorr. ECC |\n",
            "| Fan  Temp  Perf  Pwr:Usage/Cap|         Memory-Usage | GPU-Util  Compute M. |\n",
            "|===============================+======================+======================|\n",
            "|   0  Tesla K80           Off  | 00000000:00:04.0 Off |                    0 |\n",
            "| N/A   72C    P0    73W / 149W |   2852MiB / 11441MiB |      0%      Default |\n",
            "+-------------------------------+----------------------+----------------------+\n",
            "                                                                               \n",
            "+-----------------------------------------------------------------------------+\n",
            "| Processes:                                                       GPU Memory |\n",
            "|  GPU       PID   Type   Process name                             Usage      |\n",
            "|=============================================================================|\n",
            "+-----------------------------------------------------------------------------+\n",
            "Все параметры сети:\n",
            "----------------------------------------------------------------\n",
            "        Layer (type)               Output Shape         Param #\n",
            "================================================================\n",
            "            Conv2d-1            [-1, 6, 28, 28]             156\n",
            "              Tanh-2            [-1, 6, 28, 28]               0\n",
            "         AvgPool2d-3            [-1, 6, 14, 14]               0\n",
            "            Conv2d-4            [-1, 8, 10, 10]           1,208\n",
            "              Tanh-5            [-1, 8, 10, 10]               0\n",
            "         AvgPool2d-6              [-1, 8, 5, 5]               0\n",
            "            Linear-7                   [-1, 10]           2,010\n",
            "================================================================\n",
            "Total params: 3,374\n",
            "Trainable params: 3,374\n",
            "Non-trainable params: 0\n",
            "----------------------------------------------------------------\n",
            "Input size (MB): 0.00\n",
            "Forward/backward pass size (MB): 0.09\n",
            "Params size (MB): 0.01\n",
            "Estimated Total Size (MB): 0.11\n",
            "----------------------------------------------------------------\n",
            "epoch= 0 \taccuracy= tensor(0.6443)\n",
            "epoch= 5 \taccuracy= tensor(0.8713)\n",
            "epoch= 10 \taccuracy= tensor(0.9120)\n",
            "epoch= 15 \taccuracy= tensor(0.9360)\n",
            "epoch= 20 \taccuracy= tensor(0.9498)\n",
            "epoch= 25 \taccuracy= tensor(0.9577)\n",
            "epoch= 30 \taccuracy= tensor(0.9634)\n",
            "epoch= 35 \taccuracy= tensor(0.9667)\n",
            "epoch= 40 \taccuracy= tensor(0.9704)\n",
            "epoch= 45 \taccuracy= tensor(0.9727)\n",
            "epoch= 50 \taccuracy= tensor(0.9751)\n",
            "epoch= 55 \taccuracy= tensor(0.9774)\n",
            "epoch= 60 \taccuracy= tensor(0.9777)\n",
            "epoch= 65 \taccuracy= tensor(0.9788)\n",
            "epoch= 70 \taccuracy= tensor(0.9799)\n",
            "epoch= 75 \taccuracy= tensor(0.9803)\n",
            "epoch= 80 \taccuracy= tensor(0.9811)\n",
            "epoch= 85 \taccuracy= tensor(0.9826)\n",
            "epoch= 90 \taccuracy= tensor(0.9829)\n",
            "epoch= 95 \taccuracy= tensor(0.9836)\n"
          ],
          "name": "stdout"
        }
      ]
    },
    {
      "cell_type": "code",
      "metadata": {
        "id": "Cqf78pevaL-f",
        "colab_type": "code",
        "colab": {}
      },
      "source": [
        "import pandas as pd\n",
        "import numpy as np"
      ],
      "execution_count": 0,
      "outputs": []
    },
    {
      "cell_type": "code",
      "metadata": {
        "id": "EL85CehGqtaM",
        "colab_type": "code",
        "colab": {}
      },
      "source": [
        "test_loss_history_np=np.array(test_loss_history)\n",
        "test_accuracy_history_np=np.array(test_accuracy_history)\n"
      ],
      "execution_count": 0,
      "outputs": []
    },
    {
      "cell_type": "code",
      "metadata": {
        "id": "0fpv4WmkmGmL",
        "colab_type": "code",
        "colab": {
          "base_uri": "https://localhost:8080/",
          "height": 595
        },
        "outputId": "2b91e9a4-a8e0-4804-d927-a0dad573d401"
      },
      "source": [
        "print(test_loss_history_np)\n",
        "print(test_accuracy_history_np)"
      ],
      "execution_count": 33,
      "outputs": [
        {
          "output_type": "stream",
          "text": [
            "[[1.9965297  1.5980684  1.1743057  0.85666454 0.6674228  0.5570169\n",
            "  0.4869357  0.43756363 0.39982057 0.3693027  0.3429586  0.31923807\n",
            "  0.2986522  0.2793665  0.26169044 0.24601287 0.23142512 0.21847275\n",
            "  0.20694277 0.19670077 0.18731767 0.17900613 0.17151166 0.16499826\n",
            "  0.1588073  0.15299325 0.14821607 0.14377701 0.13893253 0.13501392\n",
            "  0.1312186  0.12745267 0.12435436 0.12082998 0.11827389 0.1156081\n",
            "  0.11278231 0.11049402 0.10778438 0.10538712 0.10350092 0.10149305\n",
            "  0.09998138 0.09784643 0.09599137 0.09434916 0.09277213 0.09125224\n",
            "  0.08969278 0.08819261 0.08722892 0.08561233 0.08438104 0.08323194\n",
            "  0.08207174 0.0810001  0.07983124 0.078663   0.07723936 0.07693706\n",
            "  0.07562406 0.07481543 0.07381725 0.07300068 0.0720094  0.0715\n",
            "  0.07061289 0.06976297 0.06918588 0.06870348 0.06791805 0.06743623\n",
            "  0.06658043 0.06625859 0.06520944 0.06465249 0.06408284 0.06333098\n",
            "  0.06305362 0.06278949 0.06191652 0.06182234 0.06153835 0.06084134\n",
            "  0.0603593  0.05969079 0.05937456 0.05899372 0.05894588 0.05805901\n",
            "  0.05786983 0.05804752 0.05781301 0.05703217 0.05657905 0.05610828\n",
            "  0.05611961 0.05591342 0.05557124 0.05530958]]\n",
            "[[0.6443     0.75189996 0.80619997 0.839      0.8594     0.8713\n",
            "  0.8831     0.88979995 0.89779997 0.90489995 0.912      0.91709995\n",
            "  0.92399997 0.928      0.9314     0.936      0.9392     0.942\n",
            "  0.9454     0.9475     0.94979995 0.9521     0.95479995 0.9564\n",
            "  0.9572     0.95769995 0.9589     0.9596     0.96169996 0.9623\n",
            "  0.96339995 0.96449995 0.96449995 0.9654     0.9665     0.96669996\n",
            "  0.96739995 0.96779996 0.969      0.96919996 0.9704     0.9708\n",
            "  0.9715     0.97209996 0.9716     0.9727     0.97279996 0.97309995\n",
            "  0.9741     0.974      0.9751     0.9751     0.9752     0.9758\n",
            "  0.9766     0.9774     0.9774     0.9774     0.9769     0.9777\n",
            "  0.9777     0.97849995 0.97789997 0.9787     0.97889996 0.9788\n",
            "  0.9798     0.97969997 0.97959995 0.97969997 0.9799     0.9794\n",
            "  0.98039997 0.9805     0.98109996 0.98029995 0.9812     0.98099995\n",
            "  0.98099995 0.98139995 0.98109996 0.98179996 0.9819     0.9823\n",
            "  0.98179996 0.9826     0.9823     0.9823     0.9826     0.9827\n",
            "  0.98289996 0.98209995 0.9827     0.9831     0.9837     0.98359996\n",
            "  0.9833     0.9837     0.9833     0.9837    ]]\n"
          ],
          "name": "stdout"
        }
      ]
    },
    {
      "cell_type": "code",
      "metadata": {
        "id": "rUSym-146yLA",
        "colab_type": "code",
        "outputId": "ed91a6f9-8e7a-404e-dd3b-4314622ef72f",
        "colab": {
          "base_uri": "https://localhost:8080/",
          "height": 34
        }
      },
      "source": [
        "x1=np.copy(test_loss_history_np)\n",
        "x2=np.copy(test_accuracy_history_np)\n",
        "#показание лосс функции на последней эпохе\n",
        "print(test_loss_history_np[:,-1])\n",
        "\n"
      ],
      "execution_count": 24,
      "outputs": [
        {
          "output_type": "stream",
          "text": [
            "[0.05530958]\n"
          ],
          "name": "stdout"
        }
      ]
    },
    {
      "cell_type": "code",
      "metadata": {
        "id": "fmyvMoZ-7hBz",
        "colab_type": "code",
        "outputId": "591b158c-2331-47c7-bf50-55d6936188c6",
        "colab": {
          "base_uri": "https://localhost:8080/",
          "height": 34
        }
      },
      "source": [
        "#точность предсказания на последней эпохе \n",
        "print(test_accuracy_history_np[:,-1])"
      ],
      "execution_count": 25,
      "outputs": [
        {
          "output_type": "stream",
          "text": [
            "[0.9837]\n"
          ],
          "name": "stdout"
        }
      ]
    },
    {
      "cell_type": "code",
      "metadata": {
        "id": "kljFeh6l-4T8",
        "colab_type": "code",
        "colab": {}
      },
      "source": [
        "# save numpy array as csv file\n",
        "from numpy import asarray\n",
        "from numpy import savetxt\n",
        "# define data\n",
        "# save to csv file\n",
        "savetxt('min_test_loss_history_np.csv', test_loss_history_np, delimiter=',')\n",
        "savetxt('min_test_accuracy_history_np.csv', test_accuracy_history_np, delimiter=',')\n",
        "\n",
        "# load numpy array from csv file\n",
        "# from numpy import loadtxt\n",
        "# # load array\n",
        "# test_loss_history_np = loadtxt('./test_loss_history_np.csv', delimiter=',')\n",
        "# test_accuracy_history_np = loadtxt('./test_accuracy_history_np.csv', delimiter=',')"
      ],
      "execution_count": 0,
      "outputs": []
    },
    {
      "cell_type": "code",
      "metadata": {
        "id": "KGl6OHgeiFBl",
        "colab_type": "code",
        "colab": {}
      },
      "source": [
        "# from numpy import genfromtxt\n",
        "# test_accuracy_history_np = genfromtxt('/content/120-64_test_accuracy_history_np.csv', delimiter=',')\n",
        "# test_loss_history_np = genfromtxt('/content/120-64_test_loss_history_np.csv', delimiter=',')"
      ],
      "execution_count": 0,
      "outputs": []
    },
    {
      "cell_type": "code",
      "metadata": {
        "id": "YvLW6oHmbv6h",
        "colab_type": "code",
        "outputId": "0037c433-6998-4410-8e1a-96b54312dd87",
        "colab": {
          "base_uri": "https://localhost:8080/",
          "height": 391
        }
      },
      "source": [
        "fig, ax = plt.subplots(figsize=(12,6))\n",
        "\n",
        "ax.plot(test_accuracy_history_np[0])  \n",
        "\n",
        "#plt.gca().invert_xaxis()\n",
        "\n",
        "ax.set_xlabel('Эпоха обучения')\n",
        "\n",
        "ax.set_ylabel('Точность  предсказания сети')\n",
        "#plt.show()\n",
        "plt.savefig('7.png')"
      ],
      "execution_count": 37,
      "outputs": [
        {
          "output_type": "display_data",
          "data": {
            "image/png": "[encoded data removed]",
            "text/plain": [
              "<Figure size 864x432 with 1 Axes>"
            ]
          },
          "metadata": {
            "tags": [],
            "needs_background": "light"
          }
        }
      ]
    },
    {
      "cell_type": "code",
      "metadata": {
        "id": "Ijby341jjBoi",
        "colab_type": "code",
        "colab": {
          "base_uri": "https://localhost:8080/",
          "height": 388
        },
        "outputId": "3727ce8b-4098-408d-fc66-26e8d04b6289"
      },
      "source": [
        "fig, ax = plt.subplots(figsize=(12,6))\n",
        "\n",
        "ax.plot(test_loss_history_np[0])  \n",
        "\n",
        "#plt.gca().invert_xaxis()\n",
        "\n",
        "ax.set_xlabel('Эпоха обучения')\n",
        "\n",
        "ax.set_ylabel('Значение loss функции сети')\n",
        "plt.savefig('8.png')"
      ],
      "execution_count": 39,
      "outputs": [
        {
          "output_type": "display_data",
          "data": {
            "image/png": "[encoded data removed]",
            "text/plain": [
              "<Figure size 864x432 with 1 Axes>"
            ]
          },
          "metadata": {
            "tags": [],
            "needs_background": "light"
          }
        }
      ]
    },
    {
      "cell_type": "code",
      "metadata": {
        "id": "CNCChsFpmvwo",
        "colab_type": "code",
        "colab": {}
      },
      "source": [
        ""
      ],
      "execution_count": 0,
      "outputs": []
    }
  ]
}