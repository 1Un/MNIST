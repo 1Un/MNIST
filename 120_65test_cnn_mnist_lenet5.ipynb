{
  "nbformat": 4,
  "nbformat_minor": 0,
  "metadata": {
    "accelerator": "GPU",
    "colab": {
      "name": "120-65test_cnn_mnist_lenet5.ipynb",
      "provenance": [],
      "collapsed_sections": [],
      "include_colab_link": true
    },
    "kernelspec": {
      "name": "python3",
      "display_name": "Python 3"
    },
    "language_info": {
      "codemirror_mode": {
        "name": "ipython",
        "version": 3
      },
      "file_extension": ".py",
      "mimetype": "text/x-python",
      "name": "python",
      "nbconvert_exporter": "python",
      "pygments_lexer": "ipython3",
      "version": "3.6.8"
    },
    "widgets": {
      "application/vnd.jupyter.widget-state+json": {
        "f9af45c809ea4e118b66505b506ddea9": {
          "model_module": "@jupyter-widgets/controls",
          "model_name": "HBoxModel",
          "state": {
            "_view_name": "HBoxView",
            "_dom_classes": [],
            "_model_name": "HBoxModel",
            "_view_module": "@jupyter-widgets/controls",
            "_model_module_version": "1.5.0",
            "_view_count": null,
            "_view_module_version": "1.5.0",
            "box_style": "",
            "layout": "IPY_MODEL_749e5f4fb1754c61bfed398bf79fe9a4",
            "_model_module": "@jupyter-widgets/controls",
            "children": [
              "IPY_MODEL_38f6cb570f574d6bb05089b322c7fe10",
              "IPY_MODEL_8c77bd0de0d248d7af96d0e30bdc5cd5"
            ]
          }
        },
        "749e5f4fb1754c61bfed398bf79fe9a4": {
          "model_module": "@jupyter-widgets/base",
          "model_name": "LayoutModel",
          "state": {
            "_view_name": "LayoutView",
            "grid_template_rows": null,
            "right": null,
            "justify_content": null,
            "_view_module": "@jupyter-widgets/base",
            "overflow": null,
            "_model_module_version": "1.2.0",
            "_view_count": null,
            "flex_flow": null,
            "width": null,
            "min_width": null,
            "border": null,
            "align_items": null,
            "bottom": null,
            "_model_module": "@jupyter-widgets/base",
            "top": null,
            "grid_column": null,
            "overflow_y": null,
            "overflow_x": null,
            "grid_auto_flow": null,
            "grid_area": null,
            "grid_template_columns": null,
            "flex": null,
            "_model_name": "LayoutModel",
            "justify_items": null,
            "grid_row": null,
            "max_height": null,
            "align_content": null,
            "visibility": null,
            "align_self": null,
            "height": null,
            "min_height": null,
            "padding": null,
            "grid_auto_rows": null,
            "grid_gap": null,
            "max_width": null,
            "order": null,
            "_view_module_version": "1.2.0",
            "grid_template_areas": null,
            "object_position": null,
            "object_fit": null,
            "grid_auto_columns": null,
            "margin": null,
            "display": null,
            "left": null
          }
        },
        "38f6cb570f574d6bb05089b322c7fe10": {
          "model_module": "@jupyter-widgets/controls",
          "model_name": "IntProgressModel",
          "state": {
            "_view_name": "ProgressView",
            "style": "IPY_MODEL_ca2259bad4174015870af4a93a41e1af",
            "_dom_classes": [],
            "description": "",
            "_model_name": "IntProgressModel",
            "bar_style": "info",
            "max": 1,
            "_view_module": "@jupyter-widgets/controls",
            "_model_module_version": "1.5.0",
            "value": 1,
            "_view_count": null,
            "_view_module_version": "1.5.0",
            "orientation": "horizontal",
            "min": 0,
            "description_tooltip": null,
            "_model_module": "@jupyter-widgets/controls",
            "layout": "IPY_MODEL_ac1be9bdf8904d28babe70ab4a0704f8"
          }
        },
        "8c77bd0de0d248d7af96d0e30bdc5cd5": {
          "model_module": "@jupyter-widgets/controls",
          "model_name": "HTMLModel",
          "state": {
            "_view_name": "HTMLView",
            "style": "IPY_MODEL_a3be96cd146446c4bfe63dc7896d0278",
            "_dom_classes": [],
            "description": "",
            "_model_name": "HTMLModel",
            "placeholder": "​",
            "_view_module": "@jupyter-widgets/controls",
            "_model_module_version": "1.5.0",
            "value": " 9920512/? [00:20&lt;00:00, 1327958.15it/s]",
            "_view_count": null,
            "_view_module_version": "1.5.0",
            "description_tooltip": null,
            "_model_module": "@jupyter-widgets/controls",
            "layout": "IPY_MODEL_bbf3ff8ade7f4b27ac3e081c44230486"
          }
        },
        "ca2259bad4174015870af4a93a41e1af": {
          "model_module": "@jupyter-widgets/controls",
          "model_name": "ProgressStyleModel",
          "state": {
            "_view_name": "StyleView",
            "_model_name": "ProgressStyleModel",
            "description_width": "initial",
            "_view_module": "@jupyter-widgets/base",
            "_model_module_version": "1.5.0",
            "_view_count": null,
            "_view_module_version": "1.2.0",
            "bar_color": null,
            "_model_module": "@jupyter-widgets/controls"
          }
        },
        "ac1be9bdf8904d28babe70ab4a0704f8": {
          "model_module": "@jupyter-widgets/base",
          "model_name": "LayoutModel",
          "state": {
            "_view_name": "LayoutView",
            "grid_template_rows": null,
            "right": null,
            "justify_content": null,
            "_view_module": "@jupyter-widgets/base",
            "overflow": null,
            "_model_module_version": "1.2.0",
            "_view_count": null,
            "flex_flow": null,
            "width": null,
            "min_width": null,
            "border": null,
            "align_items": null,
            "bottom": null,
            "_model_module": "@jupyter-widgets/base",
            "top": null,
            "grid_column": null,
            "overflow_y": null,
            "overflow_x": null,
            "grid_auto_flow": null,
            "grid_area": null,
            "grid_template_columns": null,
            "flex": null,
            "_model_name": "LayoutModel",
            "justify_items": null,
            "grid_row": null,
            "max_height": null,
            "align_content": null,
            "visibility": null,
            "align_self": null,
            "height": null,
            "min_height": null,
            "padding": null,
            "grid_auto_rows": null,
            "grid_gap": null,
            "max_width": null,
            "order": null,
            "_view_module_version": "1.2.0",
            "grid_template_areas": null,
            "object_position": null,
            "object_fit": null,
            "grid_auto_columns": null,
            "margin": null,
            "display": null,
            "left": null
          }
        },
        "a3be96cd146446c4bfe63dc7896d0278": {
          "model_module": "@jupyter-widgets/controls",
          "model_name": "DescriptionStyleModel",
          "state": {
            "_view_name": "StyleView",
            "_model_name": "DescriptionStyleModel",
            "description_width": "",
            "_view_module": "@jupyter-widgets/base",
            "_model_module_version": "1.5.0",
            "_view_count": null,
            "_view_module_version": "1.2.0",
            "_model_module": "@jupyter-widgets/controls"
          }
        },
        "bbf3ff8ade7f4b27ac3e081c44230486": {
          "model_module": "@jupyter-widgets/base",
          "model_name": "LayoutModel",
          "state": {
            "_view_name": "LayoutView",
            "grid_template_rows": null,
            "right": null,
            "justify_content": null,
            "_view_module": "@jupyter-widgets/base",
            "overflow": null,
            "_model_module_version": "1.2.0",
            "_view_count": null,
            "flex_flow": null,
            "width": null,
            "min_width": null,
            "border": null,
            "align_items": null,
            "bottom": null,
            "_model_module": "@jupyter-widgets/base",
            "top": null,
            "grid_column": null,
            "overflow_y": null,
            "overflow_x": null,
            "grid_auto_flow": null,
            "grid_area": null,
            "grid_template_columns": null,
            "flex": null,
            "_model_name": "LayoutModel",
            "justify_items": null,
            "grid_row": null,
            "max_height": null,
            "align_content": null,
            "visibility": null,
            "align_self": null,
            "height": null,
            "min_height": null,
            "padding": null,
            "grid_auto_rows": null,
            "grid_gap": null,
            "max_width": null,
            "order": null,
            "_view_module_version": "1.2.0",
            "grid_template_areas": null,
            "object_position": null,
            "object_fit": null,
            "grid_auto_columns": null,
            "margin": null,
            "display": null,
            "left": null
          }
        },
        "64a383bc4bf647948a3c5011a790906c": {
          "model_module": "@jupyter-widgets/controls",
          "model_name": "HBoxModel",
          "state": {
            "_view_name": "HBoxView",
            "_dom_classes": [],
            "_model_name": "HBoxModel",
            "_view_module": "@jupyter-widgets/controls",
            "_model_module_version": "1.5.0",
            "_view_count": null,
            "_view_module_version": "1.5.0",
            "box_style": "",
            "layout": "IPY_MODEL_360573df60c647a595b3aae081272982",
            "_model_module": "@jupyter-widgets/controls",
            "children": [
              "IPY_MODEL_1da9726aada74486bb114972a400a838",
              "IPY_MODEL_b216a60a23d447efa3120f7393e7613b"
            ]
          }
        },
        "360573df60c647a595b3aae081272982": {
          "model_module": "@jupyter-widgets/base",
          "model_name": "LayoutModel",
          "state": {
            "_view_name": "LayoutView",
            "grid_template_rows": null,
            "right": null,
            "justify_content": null,
            "_view_module": "@jupyter-widgets/base",
            "overflow": null,
            "_model_module_version": "1.2.0",
            "_view_count": null,
            "flex_flow": null,
            "width": null,
            "min_width": null,
            "border": null,
            "align_items": null,
            "bottom": null,
            "_model_module": "@jupyter-widgets/base",
            "top": null,
            "grid_column": null,
            "overflow_y": null,
            "overflow_x": null,
            "grid_auto_flow": null,
            "grid_area": null,
            "grid_template_columns": null,
            "flex": null,
            "_model_name": "LayoutModel",
            "justify_items": null,
            "grid_row": null,
            "max_height": null,
            "align_content": null,
            "visibility": null,
            "align_self": null,
            "height": null,
            "min_height": null,
            "padding": null,
            "grid_auto_rows": null,
            "grid_gap": null,
            "max_width": null,
            "order": null,
            "_view_module_version": "1.2.0",
            "grid_template_areas": null,
            "object_position": null,
            "object_fit": null,
            "grid_auto_columns": null,
            "margin": null,
            "display": null,
            "left": null
          }
        },
        "1da9726aada74486bb114972a400a838": {
          "model_module": "@jupyter-widgets/controls",
          "model_name": "IntProgressModel",
          "state": {
            "_view_name": "ProgressView",
            "style": "IPY_MODEL_c135e3642c574a78857d64a78c3a2230",
            "_dom_classes": [],
            "description": "",
            "_model_name": "IntProgressModel",
            "bar_style": "info",
            "max": 1,
            "_view_module": "@jupyter-widgets/controls",
            "_model_module_version": "1.5.0",
            "value": 1,
            "_view_count": null,
            "_view_module_version": "1.5.0",
            "orientation": "horizontal",
            "min": 0,
            "description_tooltip": null,
            "_model_module": "@jupyter-widgets/controls",
            "layout": "IPY_MODEL_13360e7279b74215934602da00a6b02e"
          }
        },
        "b216a60a23d447efa3120f7393e7613b": {
          "model_module": "@jupyter-widgets/controls",
          "model_name": "HTMLModel",
          "state": {
            "_view_name": "HTMLView",
            "style": "IPY_MODEL_6450eb97334d435089326e045d1b9032",
            "_dom_classes": [],
            "description": "",
            "_model_name": "HTMLModel",
            "placeholder": "​",
            "_view_module": "@jupyter-widgets/controls",
            "_model_module_version": "1.5.0",
            "value": " 32768/? [00:16&lt;00:00, 76480.74it/s]",
            "_view_count": null,
            "_view_module_version": "1.5.0",
            "description_tooltip": null,
            "_model_module": "@jupyter-widgets/controls",
            "layout": "IPY_MODEL_bdb173576cd84ba4bd459b3378dba093"
          }
        },
        "c135e3642c574a78857d64a78c3a2230": {
          "model_module": "@jupyter-widgets/controls",
          "model_name": "ProgressStyleModel",
          "state": {
            "_view_name": "StyleView",
            "_model_name": "ProgressStyleModel",
            "description_width": "initial",
            "_view_module": "@jupyter-widgets/base",
            "_model_module_version": "1.5.0",
            "_view_count": null,
            "_view_module_version": "1.2.0",
            "bar_color": null,
            "_model_module": "@jupyter-widgets/controls"
          }
        },
        "13360e7279b74215934602da00a6b02e": {
          "model_module": "@jupyter-widgets/base",
          "model_name": "LayoutModel",
          "state": {
            "_view_name": "LayoutView",
            "grid_template_rows": null,
            "right": null,
            "justify_content": null,
            "_view_module": "@jupyter-widgets/base",
            "overflow": null,
            "_model_module_version": "1.2.0",
            "_view_count": null,
            "flex_flow": null,
            "width": null,
            "min_width": null,
            "border": null,
            "align_items": null,
            "bottom": null,
            "_model_module": "@jupyter-widgets/base",
            "top": null,
            "grid_column": null,
            "overflow_y": null,
            "overflow_x": null,
            "grid_auto_flow": null,
            "grid_area": null,
            "grid_template_columns": null,
            "flex": null,
            "_model_name": "LayoutModel",
            "justify_items": null,
            "grid_row": null,
            "max_height": null,
            "align_content": null,
            "visibility": null,
            "align_self": null,
            "height": null,
            "min_height": null,
            "padding": null,
            "grid_auto_rows": null,
            "grid_gap": null,
            "max_width": null,
            "order": null,
            "_view_module_version": "1.2.0",
            "grid_template_areas": null,
            "object_position": null,
            "object_fit": null,
            "grid_auto_columns": null,
            "margin": null,
            "display": null,
            "left": null
          }
        },
        "6450eb97334d435089326e045d1b9032": {
          "model_module": "@jupyter-widgets/controls",
          "model_name": "DescriptionStyleModel",
          "state": {
            "_view_name": "StyleView",
            "_model_name": "DescriptionStyleModel",
            "description_width": "",
            "_view_module": "@jupyter-widgets/base",
            "_model_module_version": "1.5.0",
            "_view_count": null,
            "_view_module_version": "1.2.0",
            "_model_module": "@jupyter-widgets/controls"
          }
        },
        "bdb173576cd84ba4bd459b3378dba093": {
          "model_module": "@jupyter-widgets/base",
          "model_name": "LayoutModel",
          "state": {
            "_view_name": "LayoutView",
            "grid_template_rows": null,
            "right": null,
            "justify_content": null,
            "_view_module": "@jupyter-widgets/base",
            "overflow": null,
            "_model_module_version": "1.2.0",
            "_view_count": null,
            "flex_flow": null,
            "width": null,
            "min_width": null,
            "border": null,
            "align_items": null,
            "bottom": null,
            "_model_module": "@jupyter-widgets/base",
            "top": null,
            "grid_column": null,
            "overflow_y": null,
            "overflow_x": null,
            "grid_auto_flow": null,
            "grid_area": null,
            "grid_template_columns": null,
            "flex": null,
            "_model_name": "LayoutModel",
            "justify_items": null,
            "grid_row": null,
            "max_height": null,
            "align_content": null,
            "visibility": null,
            "align_self": null,
            "height": null,
            "min_height": null,
            "padding": null,
            "grid_auto_rows": null,
            "grid_gap": null,
            "max_width": null,
            "order": null,
            "_view_module_version": "1.2.0",
            "grid_template_areas": null,
            "object_position": null,
            "object_fit": null,
            "grid_auto_columns": null,
            "margin": null,
            "display": null,
            "left": null
          }
        },
        "cef180c79818414eadcaf26696945650": {
          "model_module": "@jupyter-widgets/controls",
          "model_name": "HBoxModel",
          "state": {
            "_view_name": "HBoxView",
            "_dom_classes": [],
            "_model_name": "HBoxModel",
            "_view_module": "@jupyter-widgets/controls",
            "_model_module_version": "1.5.0",
            "_view_count": null,
            "_view_module_version": "1.5.0",
            "box_style": "",
            "layout": "IPY_MODEL_1ba44f69df9a491ca6840f4e664111ff",
            "_model_module": "@jupyter-widgets/controls",
            "children": [
              "IPY_MODEL_0f137794baa44a8c8e337ee5be52894a",
              "IPY_MODEL_81f6290d80d9412f988b420dd5f43f46"
            ]
          }
        },
        "1ba44f69df9a491ca6840f4e664111ff": {
          "model_module": "@jupyter-widgets/base",
          "model_name": "LayoutModel",
          "state": {
            "_view_name": "LayoutView",
            "grid_template_rows": null,
            "right": null,
            "justify_content": null,
            "_view_module": "@jupyter-widgets/base",
            "overflow": null,
            "_model_module_version": "1.2.0",
            "_view_count": null,
            "flex_flow": null,
            "width": null,
            "min_width": null,
            "border": null,
            "align_items": null,
            "bottom": null,
            "_model_module": "@jupyter-widgets/base",
            "top": null,
            "grid_column": null,
            "overflow_y": null,
            "overflow_x": null,
            "grid_auto_flow": null,
            "grid_area": null,
            "grid_template_columns": null,
            "flex": null,
            "_model_name": "LayoutModel",
            "justify_items": null,
            "grid_row": null,
            "max_height": null,
            "align_content": null,
            "visibility": null,
            "align_self": null,
            "height": null,
            "min_height": null,
            "padding": null,
            "grid_auto_rows": null,
            "grid_gap": null,
            "max_width": null,
            "order": null,
            "_view_module_version": "1.2.0",
            "grid_template_areas": null,
            "object_position": null,
            "object_fit": null,
            "grid_auto_columns": null,
            "margin": null,
            "display": null,
            "left": null
          }
        },
        "0f137794baa44a8c8e337ee5be52894a": {
          "model_module": "@jupyter-widgets/controls",
          "model_name": "IntProgressModel",
          "state": {
            "_view_name": "ProgressView",
            "style": "IPY_MODEL_bf51257b56a9494cb1be3e3ffe938be9",
            "_dom_classes": [],
            "description": "",
            "_model_name": "IntProgressModel",
            "bar_style": "info",
            "max": 1,
            "_view_module": "@jupyter-widgets/controls",
            "_model_module_version": "1.5.0",
            "value": 1,
            "_view_count": null,
            "_view_module_version": "1.5.0",
            "orientation": "horizontal",
            "min": 0,
            "description_tooltip": null,
            "_model_module": "@jupyter-widgets/controls",
            "layout": "IPY_MODEL_eb4f3c095af6427e90a512135843745f"
          }
        },
        "81f6290d80d9412f988b420dd5f43f46": {
          "model_module": "@jupyter-widgets/controls",
          "model_name": "HTMLModel",
          "state": {
            "_view_name": "HTMLView",
            "style": "IPY_MODEL_58fddf740457470b8b83ef44cf9a8e24",
            "_dom_classes": [],
            "description": "",
            "_model_name": "HTMLModel",
            "placeholder": "​",
            "_view_module": "@jupyter-widgets/controls",
            "_model_module_version": "1.5.0",
            "value": " 1654784/? [00:16&lt;00:00, 251320.29it/s]",
            "_view_count": null,
            "_view_module_version": "1.5.0",
            "description_tooltip": null,
            "_model_module": "@jupyter-widgets/controls",
            "layout": "IPY_MODEL_c0958d7836fa461a8fea1cbac5b8a34a"
          }
        },
        "bf51257b56a9494cb1be3e3ffe938be9": {
          "model_module": "@jupyter-widgets/controls",
          "model_name": "ProgressStyleModel",
          "state": {
            "_view_name": "StyleView",
            "_model_name": "ProgressStyleModel",
            "description_width": "initial",
            "_view_module": "@jupyter-widgets/base",
            "_model_module_version": "1.5.0",
            "_view_count": null,
            "_view_module_version": "1.2.0",
            "bar_color": null,
            "_model_module": "@jupyter-widgets/controls"
          }
        },
        "eb4f3c095af6427e90a512135843745f": {
          "model_module": "@jupyter-widgets/base",
          "model_name": "LayoutModel",
          "state": {
            "_view_name": "LayoutView",
            "grid_template_rows": null,
            "right": null,
            "justify_content": null,
            "_view_module": "@jupyter-widgets/base",
            "overflow": null,
            "_model_module_version": "1.2.0",
            "_view_count": null,
            "flex_flow": null,
            "width": null,
            "min_width": null,
            "border": null,
            "align_items": null,
            "bottom": null,
            "_model_module": "@jupyter-widgets/base",
            "top": null,
            "grid_column": null,
            "overflow_y": null,
            "overflow_x": null,
            "grid_auto_flow": null,
            "grid_area": null,
            "grid_template_columns": null,
            "flex": null,
            "_model_name": "LayoutModel",
            "justify_items": null,
            "grid_row": null,
            "max_height": null,
            "align_content": null,
            "visibility": null,
            "align_self": null,
            "height": null,
            "min_height": null,
            "padding": null,
            "grid_auto_rows": null,
            "grid_gap": null,
            "max_width": null,
            "order": null,
            "_view_module_version": "1.2.0",
            "grid_template_areas": null,
            "object_position": null,
            "object_fit": null,
            "grid_auto_columns": null,
            "margin": null,
            "display": null,
            "left": null
          }
        },
        "58fddf740457470b8b83ef44cf9a8e24": {
          "model_module": "@jupyter-widgets/controls",
          "model_name": "DescriptionStyleModel",
          "state": {
            "_view_name": "StyleView",
            "_model_name": "DescriptionStyleModel",
            "description_width": "",
            "_view_module": "@jupyter-widgets/base",
            "_model_module_version": "1.5.0",
            "_view_count": null,
            "_view_module_version": "1.2.0",
            "_model_module": "@jupyter-widgets/controls"
          }
        },
        "c0958d7836fa461a8fea1cbac5b8a34a": {
          "model_module": "@jupyter-widgets/base",
          "model_name": "LayoutModel",
          "state": {
            "_view_name": "LayoutView",
            "grid_template_rows": null,
            "right": null,
            "justify_content": null,
            "_view_module": "@jupyter-widgets/base",
            "overflow": null,
            "_model_module_version": "1.2.0",
            "_view_count": null,
            "flex_flow": null,
            "width": null,
            "min_width": null,
            "border": null,
            "align_items": null,
            "bottom": null,
            "_model_module": "@jupyter-widgets/base",
            "top": null,
            "grid_column": null,
            "overflow_y": null,
            "overflow_x": null,
            "grid_auto_flow": null,
            "grid_area": null,
            "grid_template_columns": null,
            "flex": null,
            "_model_name": "LayoutModel",
            "justify_items": null,
            "grid_row": null,
            "max_height": null,
            "align_content": null,
            "visibility": null,
            "align_self": null,
            "height": null,
            "min_height": null,
            "padding": null,
            "grid_auto_rows": null,
            "grid_gap": null,
            "max_width": null,
            "order": null,
            "_view_module_version": "1.2.0",
            "grid_template_areas": null,
            "object_position": null,
            "object_fit": null,
            "grid_auto_columns": null,
            "margin": null,
            "display": null,
            "left": null
          }
        },
        "8717146d16db48a0b2e80c94a3dd7c73": {
          "model_module": "@jupyter-widgets/controls",
          "model_name": "HBoxModel",
          "state": {
            "_view_name": "HBoxView",
            "_dom_classes": [],
            "_model_name": "HBoxModel",
            "_view_module": "@jupyter-widgets/controls",
            "_model_module_version": "1.5.0",
            "_view_count": null,
            "_view_module_version": "1.5.0",
            "box_style": "",
            "layout": "IPY_MODEL_db6a41bfa64144039f60008cf5e50e23",
            "_model_module": "@jupyter-widgets/controls",
            "children": [
              "IPY_MODEL_2c5cf39b22ae4dc482a3761626cb0392",
              "IPY_MODEL_f01a1a9c7eaa40d7bb71c3fcc3bf4c7b"
            ]
          }
        },
        "db6a41bfa64144039f60008cf5e50e23": {
          "model_module": "@jupyter-widgets/base",
          "model_name": "LayoutModel",
          "state": {
            "_view_name": "LayoutView",
            "grid_template_rows": null,
            "right": null,
            "justify_content": null,
            "_view_module": "@jupyter-widgets/base",
            "overflow": null,
            "_model_module_version": "1.2.0",
            "_view_count": null,
            "flex_flow": null,
            "width": null,
            "min_width": null,
            "border": null,
            "align_items": null,
            "bottom": null,
            "_model_module": "@jupyter-widgets/base",
            "top": null,
            "grid_column": null,
            "overflow_y": null,
            "overflow_x": null,
            "grid_auto_flow": null,
            "grid_area": null,
            "grid_template_columns": null,
            "flex": null,
            "_model_name": "LayoutModel",
            "justify_items": null,
            "grid_row": null,
            "max_height": null,
            "align_content": null,
            "visibility": null,
            "align_self": null,
            "height": null,
            "min_height": null,
            "padding": null,
            "grid_auto_rows": null,
            "grid_gap": null,
            "max_width": null,
            "order": null,
            "_view_module_version": "1.2.0",
            "grid_template_areas": null,
            "object_position": null,
            "object_fit": null,
            "grid_auto_columns": null,
            "margin": null,
            "display": null,
            "left": null
          }
        },
        "2c5cf39b22ae4dc482a3761626cb0392": {
          "model_module": "@jupyter-widgets/controls",
          "model_name": "IntProgressModel",
          "state": {
            "_view_name": "ProgressView",
            "style": "IPY_MODEL_5acaa8cbcad841a1844e9b242f036e53",
            "_dom_classes": [],
            "description": "  0%",
            "_model_name": "IntProgressModel",
            "bar_style": "info",
            "max": 1,
            "_view_module": "@jupyter-widgets/controls",
            "_model_module_version": "1.5.0",
            "value": 0,
            "_view_count": null,
            "_view_module_version": "1.5.0",
            "orientation": "horizontal",
            "min": 0,
            "description_tooltip": null,
            "_model_module": "@jupyter-widgets/controls",
            "layout": "IPY_MODEL_f35b4dedb5614292ad26b35b117be29e"
          }
        },
        "f01a1a9c7eaa40d7bb71c3fcc3bf4c7b": {
          "model_module": "@jupyter-widgets/controls",
          "model_name": "HTMLModel",
          "state": {
            "_view_name": "HTMLView",
            "style": "IPY_MODEL_7ffa6db05c5448d48ce3c2d4639bb085",
            "_dom_classes": [],
            "description": "",
            "_model_name": "HTMLModel",
            "placeholder": "​",
            "_view_module": "@jupyter-widgets/controls",
            "_model_module_version": "1.5.0",
            "value": " 0/4542 [00:01&lt;?, ?it/s]",
            "_view_count": null,
            "_view_module_version": "1.5.0",
            "description_tooltip": null,
            "_model_module": "@jupyter-widgets/controls",
            "layout": "IPY_MODEL_243a53ca786c47e089c5c208df61e236"
          }
        },
        "5acaa8cbcad841a1844e9b242f036e53": {
          "model_module": "@jupyter-widgets/controls",
          "model_name": "ProgressStyleModel",
          "state": {
            "_view_name": "StyleView",
            "_model_name": "ProgressStyleModel",
            "description_width": "initial",
            "_view_module": "@jupyter-widgets/base",
            "_model_module_version": "1.5.0",
            "_view_count": null,
            "_view_module_version": "1.2.0",
            "bar_color": null,
            "_model_module": "@jupyter-widgets/controls"
          }
        },
        "f35b4dedb5614292ad26b35b117be29e": {
          "model_module": "@jupyter-widgets/base",
          "model_name": "LayoutModel",
          "state": {
            "_view_name": "LayoutView",
            "grid_template_rows": null,
            "right": null,
            "justify_content": null,
            "_view_module": "@jupyter-widgets/base",
            "overflow": null,
            "_model_module_version": "1.2.0",
            "_view_count": null,
            "flex_flow": null,
            "width": null,
            "min_width": null,
            "border": null,
            "align_items": null,
            "bottom": null,
            "_model_module": "@jupyter-widgets/base",
            "top": null,
            "grid_column": null,
            "overflow_y": null,
            "overflow_x": null,
            "grid_auto_flow": null,
            "grid_area": null,
            "grid_template_columns": null,
            "flex": null,
            "_model_name": "LayoutModel",
            "justify_items": null,
            "grid_row": null,
            "max_height": null,
            "align_content": null,
            "visibility": null,
            "align_self": null,
            "height": null,
            "min_height": null,
            "padding": null,
            "grid_auto_rows": null,
            "grid_gap": null,
            "max_width": null,
            "order": null,
            "_view_module_version": "1.2.0",
            "grid_template_areas": null,
            "object_position": null,
            "object_fit": null,
            "grid_auto_columns": null,
            "margin": null,
            "display": null,
            "left": null
          }
        },
        "7ffa6db05c5448d48ce3c2d4639bb085": {
          "model_module": "@jupyter-widgets/controls",
          "model_name": "DescriptionStyleModel",
          "state": {
            "_view_name": "StyleView",
            "_model_name": "DescriptionStyleModel",
            "description_width": "",
            "_view_module": "@jupyter-widgets/base",
            "_model_module_version": "1.5.0",
            "_view_count": null,
            "_view_module_version": "1.2.0",
            "_model_module": "@jupyter-widgets/controls"
          }
        },
        "243a53ca786c47e089c5c208df61e236": {
          "model_module": "@jupyter-widgets/base",
          "model_name": "LayoutModel",
          "state": {
            "_view_name": "LayoutView",
            "grid_template_rows": null,
            "right": null,
            "justify_content": null,
            "_view_module": "@jupyter-widgets/base",
            "overflow": null,
            "_model_module_version": "1.2.0",
            "_view_count": null,
            "flex_flow": null,
            "width": null,
            "min_width": null,
            "border": null,
            "align_items": null,
            "bottom": null,
            "_model_module": "@jupyter-widgets/base",
            "top": null,
            "grid_column": null,
            "overflow_y": null,
            "overflow_x": null,
            "grid_auto_flow": null,
            "grid_area": null,
            "grid_template_columns": null,
            "flex": null,
            "_model_name": "LayoutModel",
            "justify_items": null,
            "grid_row": null,
            "max_height": null,
            "align_content": null,
            "visibility": null,
            "align_self": null,
            "height": null,
            "min_height": null,
            "padding": null,
            "grid_auto_rows": null,
            "grid_gap": null,
            "max_width": null,
            "order": null,
            "_view_module_version": "1.2.0",
            "grid_template_areas": null,
            "object_position": null,
            "object_fit": null,
            "grid_auto_columns": null,
            "margin": null,
            "display": null,
            "left": null
          }
        }
      }
    }
  },
  "cells": [
    {
      "cell_type": "markdown",
      "metadata": {
        "id": "view-in-github",
        "colab_type": "text"
      },
      "source": [
        "<a href=\"https://colab.research.google.com/github/1Un/MNIST/blob/master/120_65test_cnn_mnist_lenet5.ipynb\" target=\"_parent\"><img src=\"https://colab.research.google.com/assets/colab-badge.svg\" alt=\"Open In Colab\"/></a>"
      ]
    },
    {
      "cell_type": "markdown",
      "metadata": {
        "colab_type": "text",
        "id": "cdjn6pICZMoM"
      },
      "source": [
        "![alt text](https://engmrk.com/wp-content/uploads/2018/09/LeNet_Original_Image.jpg)"
      ]
    },
    {
      "cell_type": "markdown",
      "metadata": {
        "colab_type": "text",
        "id": "14icu4JgZXqM"
      },
      "source": [
        "![alt text](https://engmrk.com/wp-content/uploads/2018/09/LeNEt_Summary_Table.jpg)"
      ]
    },
    {
      "cell_type": "code",
      "metadata": {
        "colab_type": "code",
        "id": "85_HkTjcNZeg",
        "colab": {}
      },
      "source": [
        "import torch\n",
        "import random\n",
        "import numpy as np\n"
      ],
      "execution_count": 0,
      "outputs": []
    },
    {
      "cell_type": "code",
      "metadata": {
        "colab_type": "code",
        "id": "kjPVw9UfNZel",
        "colab": {}
      },
      "source": [
        "import torchvision.datasets"
      ],
      "execution_count": 0,
      "outputs": []
    },
    {
      "cell_type": "code",
      "metadata": {
        "colab_type": "code",
        "id": "buWKcUqGNZeo",
        "colab": {
          "base_uri": "https://localhost:8080/",
          "height": 315,
          "referenced_widgets": [
            "f9af45c809ea4e118b66505b506ddea9",
            "749e5f4fb1754c61bfed398bf79fe9a4",
            "38f6cb570f574d6bb05089b322c7fe10",
            "8c77bd0de0d248d7af96d0e30bdc5cd5",
            "ca2259bad4174015870af4a93a41e1af",
            "ac1be9bdf8904d28babe70ab4a0704f8",
            "a3be96cd146446c4bfe63dc7896d0278",
            "bbf3ff8ade7f4b27ac3e081c44230486",
            "64a383bc4bf647948a3c5011a790906c",
            "360573df60c647a595b3aae081272982",
            "1da9726aada74486bb114972a400a838",
            "b216a60a23d447efa3120f7393e7613b",
            "c135e3642c574a78857d64a78c3a2230",
            "13360e7279b74215934602da00a6b02e",
            "6450eb97334d435089326e045d1b9032",
            "bdb173576cd84ba4bd459b3378dba093",
            "cef180c79818414eadcaf26696945650",
            "1ba44f69df9a491ca6840f4e664111ff",
            "0f137794baa44a8c8e337ee5be52894a",
            "81f6290d80d9412f988b420dd5f43f46",
            "bf51257b56a9494cb1be3e3ffe938be9",
            "eb4f3c095af6427e90a512135843745f",
            "58fddf740457470b8b83ef44cf9a8e24",
            "c0958d7836fa461a8fea1cbac5b8a34a",
            "8717146d16db48a0b2e80c94a3dd7c73",
            "db6a41bfa64144039f60008cf5e50e23",
            "2c5cf39b22ae4dc482a3761626cb0392",
            "f01a1a9c7eaa40d7bb71c3fcc3bf4c7b",
            "5acaa8cbcad841a1844e9b242f036e53",
            "f35b4dedb5614292ad26b35b117be29e",
            "7ffa6db05c5448d48ce3c2d4639bb085",
            "243a53ca786c47e089c5c208df61e236"
          ]
        },
        "outputId": "8de880c2-732c-4454-cb38-401493f22659"
      },
      "source": [
        "MNIST_train = torchvision.datasets.MNIST('./', download=True, train=True)\n",
        "MNIST_test = torchvision.datasets.MNIST('./', download=True, train=False)\n"
      ],
      "execution_count": 3,
      "outputs": [
        {
          "output_type": "stream",
          "text": [
            "Downloading http://yann.lecun.com/exdb/mnist/train-images-idx3-ubyte.gz to ./MNIST/raw/train-images-idx3-ubyte.gz\n"
          ],
          "name": "stdout"
        },
        {
          "output_type": "display_data",
          "data": {
            "application/vnd.jupyter.widget-view+json": {
              "model_id": "f9af45c809ea4e118b66505b506ddea9",
              "version_minor": 0,
              "version_major": 2
            },
            "text/plain": [
              "HBox(children=(IntProgress(value=1, bar_style='info', max=1), HTML(value='')))"
            ]
          },
          "metadata": {
            "tags": []
          }
        },
        {
          "output_type": "stream",
          "text": [
            "Extracting ./MNIST/raw/train-images-idx3-ubyte.gz to ./MNIST/raw\n",
            "Downloading http://yann.lecun.com/exdb/mnist/train-labels-idx1-ubyte.gz to ./MNIST/raw/train-labels-idx1-ubyte.gz\n"
          ],
          "name": "stdout"
        },
        {
          "output_type": "display_data",
          "data": {
            "application/vnd.jupyter.widget-view+json": {
              "model_id": "64a383bc4bf647948a3c5011a790906c",
              "version_minor": 0,
              "version_major": 2
            },
            "text/plain": [
              "HBox(children=(IntProgress(value=1, bar_style='info', max=1), HTML(value='')))"
            ]
          },
          "metadata": {
            "tags": []
          }
        },
        {
          "output_type": "stream",
          "text": [
            "Extracting ./MNIST/raw/train-labels-idx1-ubyte.gz to ./MNIST/raw\n",
            "Downloading http://yann.lecun.com/exdb/mnist/t10k-images-idx3-ubyte.gz to ./MNIST/raw/t10k-images-idx3-ubyte.gz\n"
          ],
          "name": "stdout"
        },
        {
          "output_type": "display_data",
          "data": {
            "application/vnd.jupyter.widget-view+json": {
              "model_id": "cef180c79818414eadcaf26696945650",
              "version_minor": 0,
              "version_major": 2
            },
            "text/plain": [
              "HBox(children=(IntProgress(value=1, bar_style='info', max=1), HTML(value='')))"
            ]
          },
          "metadata": {
            "tags": []
          }
        },
        {
          "output_type": "stream",
          "text": [
            "Extracting ./MNIST/raw/t10k-images-idx3-ubyte.gz to ./MNIST/raw\n",
            "Downloading http://yann.lecun.com/exdb/mnist/t10k-labels-idx1-ubyte.gz to ./MNIST/raw/t10k-labels-idx1-ubyte.gz\n"
          ],
          "name": "stdout"
        },
        {
          "output_type": "display_data",
          "data": {
            "application/vnd.jupyter.widget-view+json": {
              "model_id": "8717146d16db48a0b2e80c94a3dd7c73",
              "version_minor": 0,
              "version_major": 2
            },
            "text/plain": [
              "HBox(children=(IntProgress(value=1, bar_style='info', max=1), HTML(value='')))"
            ]
          },
          "metadata": {
            "tags": []
          }
        },
        {
          "output_type": "stream",
          "text": [
            "Extracting ./MNIST/raw/t10k-labels-idx1-ubyte.gz to ./MNIST/raw\n",
            "Processing...\n",
            "Done!\n"
          ],
          "name": "stdout"
        }
      ]
    },
    {
      "cell_type": "code",
      "metadata": {
        "colab_type": "code",
        "id": "nyrpGOtPNZeq",
        "outputId": "522b8fb6-cb25-4584-8c45-99a654b71d04",
        "colab": {
          "base_uri": "https://localhost:8080/",
          "height": 173
        }
      },
      "source": [
        "X_train = MNIST_train.train_data\n",
        "y_train = MNIST_train.train_labels\n",
        "X_test = MNIST_test.test_data\n",
        "y_test = MNIST_test.test_labels"
      ],
      "execution_count": 4,
      "outputs": [
        {
          "output_type": "stream",
          "text": [
            "/usr/local/lib/python3.6/dist-packages/torchvision/datasets/mnist.py:55: UserWarning: train_data has been renamed data\n",
            "  warnings.warn(\"train_data has been renamed data\")\n",
            "/usr/local/lib/python3.6/dist-packages/torchvision/datasets/mnist.py:45: UserWarning: train_labels has been renamed targets\n",
            "  warnings.warn(\"train_labels has been renamed targets\")\n",
            "/usr/local/lib/python3.6/dist-packages/torchvision/datasets/mnist.py:60: UserWarning: test_data has been renamed data\n",
            "  warnings.warn(\"test_data has been renamed data\")\n",
            "/usr/local/lib/python3.6/dist-packages/torchvision/datasets/mnist.py:50: UserWarning: test_labels has been renamed targets\n",
            "  warnings.warn(\"test_labels has been renamed targets\")\n"
          ],
          "name": "stderr"
        }
      ]
    },
    {
      "cell_type": "code",
      "metadata": {
        "colab_type": "code",
        "id": "f_TmOTWdNZet",
        "outputId": "2e64625d-16a9-48e9-9b55-03b3957e980f",
        "colab": {
          "base_uri": "https://localhost:8080/",
          "height": 34
        }
      },
      "source": [
        "len(y_train), len(y_test)"
      ],
      "execution_count": 5,
      "outputs": [
        {
          "output_type": "execute_result",
          "data": {
            "text/plain": [
              "(60000, 10000)"
            ]
          },
          "metadata": {
            "tags": []
          },
          "execution_count": 5
        }
      ]
    },
    {
      "cell_type": "code",
      "metadata": {
        "colab_type": "code",
        "id": "Zd-E4vIpNZe1",
        "outputId": "3cd64f3a-f2a8-4c6a-d6fe-7e65f7827855",
        "colab": {
          "base_uri": "https://localhost:8080/",
          "height": 282
        }
      },
      "source": [
        "import matplotlib.pyplot as plt\n",
        "plt.imshow(X_train[0, :, :])\n",
        "plt.show()\n",
        "print(y_train[0])"
      ],
      "execution_count": 6,
      "outputs": [
        {
          "output_type": "display_data",
          "data": {
            "image/png": "[encoded data removed]",
            "text/plain": [
              "<Figure size 432x288 with 1 Axes>"
            ]
          },
          "metadata": {
            "tags": [],
            "needs_background": "light"
          }
        },
        {
          "output_type": "stream",
          "text": [
            "tensor(5)\n"
          ],
          "name": "stdout"
        }
      ]
    },
    {
      "cell_type": "code",
      "metadata": {
        "id": "s3wxWljU8fJf",
        "colab_type": "code",
        "outputId": "f18e8650-f02e-4641-eeee-6dc97df62de7",
        "colab": {
          "base_uri": "https://localhost:8080/",
          "height": 34
        }
      },
      "source": [
        "X_train.shape\n"
      ],
      "execution_count": 7,
      "outputs": [
        {
          "output_type": "execute_result",
          "data": {
            "text/plain": [
              "torch.Size([60000, 28, 28])"
            ]
          },
          "metadata": {
            "tags": []
          },
          "execution_count": 7
        }
      ]
    },
    {
      "cell_type": "code",
      "metadata": {
        "colab_type": "code",
        "id": "Tf9LiDGuNZe6",
        "colab": {}
      },
      "source": [
        "X_train = X_train.unsqueeze(1).float()\n",
        "X_test = X_test.unsqueeze(1).float()"
      ],
      "execution_count": 0,
      "outputs": []
    },
    {
      "cell_type": "code",
      "metadata": {
        "colab_type": "code",
        "id": "kxKAhEYHNZe-",
        "outputId": "56d049d2-68c5-4874-b3ee-b035748aad7a",
        "colab": {
          "base_uri": "https://localhost:8080/",
          "height": 34
        }
      },
      "source": [
        "X_train.shape\n",
        "# отличие от полносвязанной сети, которая видела картинку как один вектор длинный,\n",
        "# мы хотим в конволюционную сеть передавать картинку как трёхмерный тензор.\n",
        "# Первый канал -- это глубина картинки, в черно-белой картинке это 1\n",
        "# канал с яркостью серого пикселя. А в RGB картинке будут RGB каналы.\n",
        "# Соответственно, мы должны нашу картинку, которая на вход пришла (она просто \"28 на 28\"),\n",
        "# разжать до \"1 на 28 на 28\". Вот мы это и делаем -- мы делаем X_train.unsqueeze,\n",
        "# а здесь ставим индекс: \"а в каком же измерении мы хотим разжать\".\n",
        "# То есть X_train у нас -- тензор из 60 000 картинок 28 на 28,\n",
        "# а мы хотим чтобы было 60 000 на 1 на 28 на 28, и то же самое мы делаем с тестом."
      ],
      "execution_count": 9,
      "outputs": [
        {
          "output_type": "execute_result",
          "data": {
            "text/plain": [
              "torch.Size([60000, 1, 28, 28])"
            ]
          },
          "metadata": {
            "tags": []
          },
          "execution_count": 9
        }
      ]
    },
    {
      "cell_type": "code",
      "metadata": {
        "colab_type": "code",
        "id": "xhsw9soDODel",
        "colab": {}
      },
      "source": [
        "class LeNet5(torch.nn.Module):\n",
        "    def __init__(self,neurons):\n",
        "        super(LeNet5, self).__init__()\n",
        "        #conv 2d называется так как матрица у нас двумерная  \n",
        "        self.conv1 = torch.nn.Conv2d(\n",
        "            in_channels=1, out_channels=6, kernel_size=5, padding=2)\n",
        "        self.act1  = torch.nn.Tanh()\n",
        "        self.pool1 = torch.nn.AvgPool2d(kernel_size=2, stride=2)\n",
        "       \n",
        "        self.conv2 = torch.nn.Conv2d(\n",
        "            in_channels=6, out_channels=16, kernel_size=5, padding=0)\n",
        "        self.act2  = torch.nn.Tanh()\n",
        "        self.pool2 = torch.nn.AvgPool2d(kernel_size=2, stride=2)\n",
        "        \n",
        "        #изображение в 1 вектор растянем в forward а пока в конструкторе прдеставим что это уже сделано\n",
        "        self.fc1   = torch.nn.Linear(5 * 5 * 16, neurons)\n",
        "        self.act3  = torch.nn.Tanh()\n",
        "        \n",
        "        self.fc2   = torch.nn.Linear(neurons, neurons-36)\n",
        "        self.act4  = torch.nn.Tanh()\n",
        "        \n",
        "        self.fc3   = torch.nn.Linear(neurons-36, 10)\n",
        "    \n",
        "    #x - входной тензор, т.е. батч из картинок \n",
        "    def forward(self, x):\n",
        "        \n",
        "        x = self.conv1(x)\n",
        "        x = self.act1(x)\n",
        "        x = self.pool1(x)\n",
        "        \n",
        "        x = self.conv2(x)\n",
        "        x = self.act2(x)\n",
        "        x = self.pool2(x)\n",
        "        \n",
        "        #преобразуем наш тенхор к нужной размерности x.size(0) - размер батча \n",
        "        #а дальше тензор одномерный очевидно что бы получить этот размер надо\n",
        "        #просто перемножить 3 размерности\n",
        "        x = x.view(x.size(0), x.size(1) * x.size(2) * x.size(3))\n",
        "\n",
        "        x = self.fc1(x)\n",
        "        x = self.act3(x)\n",
        "        x = self.fc2(x)\n",
        "        x = self.act4(x)\n",
        "        x = self.fc3(x)\n",
        "        \n",
        "        return x\n",
        "    \n"
      ],
      "execution_count": 0,
      "outputs": []
    },
    {
      "cell_type": "code",
      "metadata": {
        "colab_type": "code",
        "id": "XfA9gqSdNZfQ",
        "colab": {}
      },
      "source": [
        "# def sum_par(model):\n",
        "#   s=0\n",
        "#   for i in model.parameters():\n",
        "#     #print(i)\n",
        "#     print(len(i.reshape(-1)))\n",
        "#     s+=len(i.reshape(-1))\n",
        "#   return s\n",
        "# print('sum=',sum_par(lenet5))\n",
        "#========\n",
        "\n",
        "# lenet5= LeNet5()\n",
        "# import torchsummary\n",
        "# print(\"Все параметры сети:\")\n",
        "# torchsummary.summary(lenet5.cuda(),(1,28,28))\n",
        "# #(1,28,28) - размер входного изображения \n",
        "\n",
        "\n",
        "def study(lenet5,X_test,y_test,X_train,y_train,batch_size = 5000):  \n",
        "  #!nvidia-smi\n",
        "  device = torch.device('cuda:0' if torch.cuda.is_available() else 'cpu')\n",
        "  lenet5 = lenet5.to(device)\n",
        "  loss = torch.nn.CrossEntropyLoss()\n",
        "  optimizer = torch.optim.Adam(lenet5.parameters(), lr=1.0e-3)\n",
        "  \n",
        "\n",
        "  test_accuracy_history = []\n",
        "  test_loss_history = []\n",
        "\n",
        "  X_test = X_test.to(device)\n",
        "  y_test = y_test.to(device)\n",
        "\n",
        "  for epoch in range(100):\n",
        "      order = np.random.permutation(len(X_train))\n",
        "      for start_index in range(0, len(X_train), batch_size):\n",
        "          optimizer.zero_grad()\n",
        "          \n",
        "          batch_indexes = order[start_index:start_index+batch_size]\n",
        "          \n",
        "          X_batch = X_train[batch_indexes].to(device)\n",
        "          y_batch = y_train[batch_indexes].to(device)\n",
        "          \n",
        "          preds = lenet5.forward(X_batch) \n",
        "          \n",
        "          loss_value = loss(preds, y_batch)\n",
        "          loss_value.backward()\n",
        "          \n",
        "          optimizer.step()\n",
        "          \n",
        "      test_preds = lenet5.forward(X_test)\n",
        "      test_loss_history.append(loss(test_preds, y_test).data.cpu())\n",
        "\n",
        "      accuracy = (test_preds.argmax(dim=1) == y_test).float().mean().data.cpu()\n",
        "      test_accuracy_history.append(accuracy)\n",
        "\n",
        "      if epoch%10==0:\n",
        "        print('epoch=',epoch,'\\taccuracy=',accuracy)\n",
        "  return test_loss_history,test_accuracy_history\n",
        "      "
      ],
      "execution_count": 0,
      "outputs": []
    },
    {
      "cell_type": "code",
      "metadata": {
        "id": "EOPJWXnfU1zL",
        "colab_type": "code",
        "outputId": "a5551703-dee2-4c9b-d410-7b3cadb8350b",
        "colab": {
          "base_uri": "https://localhost:8080/",
          "height": 1000
        }
      },
      "source": [
        "test_loss_history=[]\n",
        "test_accuracy_history=[]\n",
        "!nvidia-smi\n",
        "for i in range(120,36+28,-5):\n",
        "  lenet5= LeNet5(i)\n",
        "  import torchsummary\n",
        "  print(\"Все параметры сети:\")\n",
        "  torchsummary.summary(lenet5.cuda(),(1,28,28))\n",
        "  print('=====',i,'=====')\n",
        "  test_loss_history1,test_accuracy_history1=study(lenet5,X_test,y_test,X_train,y_train,batch_size = 100)\n",
        "  test_loss_history.append(test_loss_history1)\n",
        "  test_accuracy_history.append(test_accuracy_history1)"
      ],
      "execution_count": 16,
      "outputs": [
        {
          "output_type": "stream",
          "text": [
            "Sun Apr 26 15:25:32 2020       \n",
            "+-----------------------------------------------------------------------------+\n",
            "| NVIDIA-SMI 440.64.00    Driver Version: 418.67       CUDA Version: 10.1     |\n",
            "|-------------------------------+----------------------+----------------------+\n",
            "| GPU  Name        Persistence-M| Bus-Id        Disp.A | Volatile Uncorr. ECC |\n",
            "| Fan  Temp  Perf  Pwr:Usage/Cap|         Memory-Usage | GPU-Util  Compute M. |\n",
            "|===============================+======================+======================|\n",
            "|   0  Tesla K80           Off  | 00000000:00:04.0 Off |                    0 |\n",
            "| N/A   61C    P0    61W / 149W |   1888MiB / 11441MiB |      0%      Default |\n",
            "+-------------------------------+----------------------+----------------------+\n",
            "                                                                               \n",
            "+-----------------------------------------------------------------------------+\n",
            "| Processes:                                                       GPU Memory |\n",
            "|  GPU       PID   Type   Process name                             Usage      |\n",
            "|=============================================================================|\n",
            "+-----------------------------------------------------------------------------+\n",
            "Все параметры сети:\n",
            "----------------------------------------------------------------\n",
            "        Layer (type)               Output Shape         Param #\n",
            "================================================================\n",
            "            Conv2d-1            [-1, 6, 28, 28]             156\n",
            "              Tanh-2            [-1, 6, 28, 28]               0\n",
            "         AvgPool2d-3            [-1, 6, 14, 14]               0\n",
            "            Conv2d-4           [-1, 16, 10, 10]           2,416\n",
            "              Tanh-5           [-1, 16, 10, 10]               0\n",
            "         AvgPool2d-6             [-1, 16, 5, 5]               0\n",
            "            Linear-7                  [-1, 120]          48,120\n",
            "              Tanh-8                  [-1, 120]               0\n",
            "            Linear-9                   [-1, 84]          10,164\n",
            "             Tanh-10                   [-1, 84]               0\n",
            "           Linear-11                   [-1, 10]             850\n",
            "================================================================\n",
            "Total params: 61,706\n",
            "Trainable params: 61,706\n",
            "Non-trainable params: 0\n",
            "----------------------------------------------------------------\n",
            "Input size (MB): 0.00\n",
            "Forward/backward pass size (MB): 0.11\n",
            "Params size (MB): 0.24\n",
            "Estimated Total Size (MB): 0.35\n",
            "----------------------------------------------------------------\n",
            "===== 120 =====\n",
            "epoch= 0 \taccuracy= tensor(0.9787)\n",
            "epoch= 10 \taccuracy= tensor(0.9885)\n",
            "epoch= 20 \taccuracy= tensor(0.9884)\n",
            "epoch= 30 \taccuracy= tensor(0.9902)\n",
            "epoch= 40 \taccuracy= tensor(0.9892)\n",
            "epoch= 50 \taccuracy= tensor(0.9894)\n",
            "epoch= 60 \taccuracy= tensor(0.9902)\n",
            "epoch= 70 \taccuracy= tensor(0.9885)\n",
            "epoch= 80 \taccuracy= tensor(0.9884)\n",
            "epoch= 90 \taccuracy= tensor(0.9889)\n",
            "Все параметры сети:\n",
            "----------------------------------------------------------------\n",
            "        Layer (type)               Output Shape         Param #\n",
            "================================================================\n",
            "            Conv2d-1            [-1, 6, 28, 28]             156\n",
            "              Tanh-2            [-1, 6, 28, 28]               0\n",
            "         AvgPool2d-3            [-1, 6, 14, 14]               0\n",
            "            Conv2d-4           [-1, 16, 10, 10]           2,416\n",
            "              Tanh-5           [-1, 16, 10, 10]               0\n",
            "         AvgPool2d-6             [-1, 16, 5, 5]               0\n",
            "            Linear-7                  [-1, 115]          46,115\n",
            "              Tanh-8                  [-1, 115]               0\n",
            "            Linear-9                   [-1, 79]           9,164\n",
            "             Tanh-10                   [-1, 79]               0\n",
            "           Linear-11                   [-1, 10]             800\n",
            "================================================================\n",
            "Total params: 58,651\n",
            "Trainable params: 58,651\n",
            "Non-trainable params: 0\n",
            "----------------------------------------------------------------\n",
            "Input size (MB): 0.00\n",
            "Forward/backward pass size (MB): 0.11\n",
            "Params size (MB): 0.22\n",
            "Estimated Total Size (MB): 0.34\n",
            "----------------------------------------------------------------\n",
            "===== 115 =====\n",
            "epoch= 0 \taccuracy= tensor(0.9721)\n",
            "epoch= 10 \taccuracy= tensor(0.9888)\n",
            "epoch= 20 \taccuracy= tensor(0.9892)\n",
            "epoch= 30 \taccuracy= tensor(0.9885)\n",
            "epoch= 40 \taccuracy= tensor(0.9889)\n",
            "epoch= 50 \taccuracy= tensor(0.9887)\n",
            "epoch= 60 \taccuracy= tensor(0.9871)\n",
            "epoch= 70 \taccuracy= tensor(0.9899)\n",
            "epoch= 80 \taccuracy= tensor(0.9888)\n",
            "epoch= 90 \taccuracy= tensor(0.9893)\n",
            "Все параметры сети:\n",
            "----------------------------------------------------------------\n",
            "        Layer (type)               Output Shape         Param #\n",
            "================================================================\n",
            "            Conv2d-1            [-1, 6, 28, 28]             156\n",
            "              Tanh-2            [-1, 6, 28, 28]               0\n",
            "         AvgPool2d-3            [-1, 6, 14, 14]               0\n",
            "            Conv2d-4           [-1, 16, 10, 10]           2,416\n",
            "              Tanh-5           [-1, 16, 10, 10]               0\n",
            "         AvgPool2d-6             [-1, 16, 5, 5]               0\n",
            "            Linear-7                  [-1, 110]          44,110\n",
            "              Tanh-8                  [-1, 110]               0\n",
            "            Linear-9                   [-1, 74]           8,214\n",
            "             Tanh-10                   [-1, 74]               0\n",
            "           Linear-11                   [-1, 10]             750\n",
            "================================================================\n",
            "Total params: 55,646\n",
            "Trainable params: 55,646\n",
            "Non-trainable params: 0\n",
            "----------------------------------------------------------------\n",
            "Input size (MB): 0.00\n",
            "Forward/backward pass size (MB): 0.11\n",
            "Params size (MB): 0.21\n",
            "Estimated Total Size (MB): 0.33\n",
            "----------------------------------------------------------------\n",
            "===== 110 =====\n",
            "epoch= 0 \taccuracy= tensor(0.9742)\n",
            "epoch= 10 \taccuracy= tensor(0.9880)\n",
            "epoch= 20 \taccuracy= tensor(0.9881)\n",
            "epoch= 30 \taccuracy= tensor(0.9875)\n",
            "epoch= 40 \taccuracy= tensor(0.9876)\n",
            "epoch= 50 \taccuracy= tensor(0.9894)\n",
            "epoch= 60 \taccuracy= tensor(0.9884)\n",
            "epoch= 70 \taccuracy= tensor(0.9886)\n",
            "epoch= 80 \taccuracy= tensor(0.9897)\n",
            "epoch= 90 \taccuracy= tensor(0.9894)\n",
            "Все параметры сети:\n",
            "----------------------------------------------------------------\n",
            "        Layer (type)               Output Shape         Param #\n",
            "================================================================\n",
            "            Conv2d-1            [-1, 6, 28, 28]             156\n",
            "              Tanh-2            [-1, 6, 28, 28]               0\n",
            "         AvgPool2d-3            [-1, 6, 14, 14]               0\n",
            "            Conv2d-4           [-1, 16, 10, 10]           2,416\n",
            "              Tanh-5           [-1, 16, 10, 10]               0\n",
            "         AvgPool2d-6             [-1, 16, 5, 5]               0\n",
            "            Linear-7                  [-1, 105]          42,105\n",
            "              Tanh-8                  [-1, 105]               0\n",
            "            Linear-9                   [-1, 69]           7,314\n",
            "             Tanh-10                   [-1, 69]               0\n",
            "           Linear-11                   [-1, 10]             700\n",
            "================================================================\n",
            "Total params: 52,691\n",
            "Trainable params: 52,691\n",
            "Non-trainable params: 0\n",
            "----------------------------------------------------------------\n",
            "Input size (MB): 0.00\n",
            "Forward/backward pass size (MB): 0.11\n",
            "Params size (MB): 0.20\n",
            "Estimated Total Size (MB): 0.31\n",
            "----------------------------------------------------------------\n",
            "===== 105 =====\n",
            "epoch= 0 \taccuracy= tensor(0.9774)\n",
            "epoch= 10 \taccuracy= tensor(0.9905)\n",
            "epoch= 20 \taccuracy= tensor(0.9886)\n",
            "epoch= 30 \taccuracy= tensor(0.9897)\n",
            "epoch= 40 \taccuracy= tensor(0.9881)\n",
            "epoch= 50 \taccuracy= tensor(0.9892)\n",
            "epoch= 60 \taccuracy= tensor(0.9879)\n",
            "epoch= 70 \taccuracy= tensor(0.9878)\n",
            "epoch= 80 \taccuracy= tensor(0.9875)\n",
            "epoch= 90 \taccuracy= tensor(0.9889)\n",
            "Все параметры сети:\n",
            "----------------------------------------------------------------\n",
            "        Layer (type)               Output Shape         Param #\n",
            "================================================================\n",
            "            Conv2d-1            [-1, 6, 28, 28]             156\n",
            "              Tanh-2            [-1, 6, 28, 28]               0\n",
            "         AvgPool2d-3            [-1, 6, 14, 14]               0\n",
            "            Conv2d-4           [-1, 16, 10, 10]           2,416\n",
            "              Tanh-5           [-1, 16, 10, 10]               0\n",
            "         AvgPool2d-6             [-1, 16, 5, 5]               0\n",
            "            Linear-7                  [-1, 100]          40,100\n",
            "              Tanh-8                  [-1, 100]               0\n",
            "            Linear-9                   [-1, 64]           6,464\n",
            "             Tanh-10                   [-1, 64]               0\n",
            "           Linear-11                   [-1, 10]             650\n",
            "================================================================\n",
            "Total params: 49,786\n",
            "Trainable params: 49,786\n",
            "Non-trainable params: 0\n",
            "----------------------------------------------------------------\n",
            "Input size (MB): 0.00\n",
            "Forward/backward pass size (MB): 0.11\n",
            "Params size (MB): 0.19\n",
            "Estimated Total Size (MB): 0.30\n",
            "----------------------------------------------------------------\n",
            "===== 100 =====\n",
            "epoch= 0 \taccuracy= tensor(0.9783)\n",
            "epoch= 10 \taccuracy= tensor(0.9897)\n",
            "epoch= 20 \taccuracy= tensor(0.9866)\n",
            "epoch= 30 \taccuracy= tensor(0.9888)\n",
            "epoch= 40 \taccuracy= tensor(0.9886)\n",
            "epoch= 50 \taccuracy= tensor(0.9878)\n",
            "epoch= 60 \taccuracy= tensor(0.9878)\n",
            "epoch= 70 \taccuracy= tensor(0.9871)\n",
            "epoch= 80 \taccuracy= tensor(0.9862)\n",
            "epoch= 90 \taccuracy= tensor(0.9884)\n",
            "Все параметры сети:\n",
            "----------------------------------------------------------------\n",
            "        Layer (type)               Output Shape         Param #\n",
            "================================================================\n",
            "            Conv2d-1            [-1, 6, 28, 28]             156\n",
            "              Tanh-2            [-1, 6, 28, 28]               0\n",
            "         AvgPool2d-3            [-1, 6, 14, 14]               0\n",
            "            Conv2d-4           [-1, 16, 10, 10]           2,416\n",
            "              Tanh-5           [-1, 16, 10, 10]               0\n",
            "         AvgPool2d-6             [-1, 16, 5, 5]               0\n",
            "            Linear-7                   [-1, 95]          38,095\n",
            "              Tanh-8                   [-1, 95]               0\n",
            "            Linear-9                   [-1, 59]           5,664\n",
            "             Tanh-10                   [-1, 59]               0\n",
            "           Linear-11                   [-1, 10]             600\n",
            "================================================================\n",
            "Total params: 46,931\n",
            "Trainable params: 46,931\n",
            "Non-trainable params: 0\n",
            "----------------------------------------------------------------\n",
            "Input size (MB): 0.00\n",
            "Forward/backward pass size (MB): 0.11\n",
            "Params size (MB): 0.18\n",
            "Estimated Total Size (MB): 0.29\n",
            "----------------------------------------------------------------\n",
            "===== 95 =====\n",
            "epoch= 0 \taccuracy= tensor(0.9777)\n",
            "epoch= 10 \taccuracy= tensor(0.9888)\n",
            "epoch= 20 \taccuracy= tensor(0.9881)\n",
            "epoch= 30 \taccuracy= tensor(0.9893)\n",
            "epoch= 40 \taccuracy= tensor(0.9877)\n",
            "epoch= 50 \taccuracy= tensor(0.9858)\n",
            "epoch= 60 \taccuracy= tensor(0.9906)\n",
            "epoch= 70 \taccuracy= tensor(0.9892)\n",
            "epoch= 80 \taccuracy= tensor(0.9875)\n",
            "epoch= 90 \taccuracy= tensor(0.9900)\n",
            "Все параметры сети:\n",
            "----------------------------------------------------------------\n",
            "        Layer (type)               Output Shape         Param #\n",
            "================================================================\n",
            "            Conv2d-1            [-1, 6, 28, 28]             156\n",
            "              Tanh-2            [-1, 6, 28, 28]               0\n",
            "         AvgPool2d-3            [-1, 6, 14, 14]               0\n",
            "            Conv2d-4           [-1, 16, 10, 10]           2,416\n",
            "              Tanh-5           [-1, 16, 10, 10]               0\n",
            "         AvgPool2d-6             [-1, 16, 5, 5]               0\n",
            "            Linear-7                   [-1, 90]          36,090\n",
            "              Tanh-8                   [-1, 90]               0\n",
            "            Linear-9                   [-1, 54]           4,914\n",
            "             Tanh-10                   [-1, 54]               0\n",
            "           Linear-11                   [-1, 10]             550\n",
            "================================================================\n",
            "Total params: 44,126\n",
            "Trainable params: 44,126\n",
            "Non-trainable params: 0\n",
            "----------------------------------------------------------------\n",
            "Input size (MB): 0.00\n",
            "Forward/backward pass size (MB): 0.11\n",
            "Params size (MB): 0.17\n",
            "Estimated Total Size (MB): 0.28\n",
            "----------------------------------------------------------------\n",
            "===== 90 =====\n",
            "epoch= 0 \taccuracy= tensor(0.9788)\n",
            "epoch= 10 \taccuracy= tensor(0.9893)\n",
            "epoch= 20 \taccuracy= tensor(0.9882)\n",
            "epoch= 30 \taccuracy= tensor(0.9890)\n",
            "epoch= 40 \taccuracy= tensor(0.9888)\n",
            "epoch= 50 \taccuracy= tensor(0.9893)\n",
            "epoch= 60 \taccuracy= tensor(0.9882)\n",
            "epoch= 70 \taccuracy= tensor(0.9895)\n",
            "epoch= 80 \taccuracy= tensor(0.9893)\n",
            "epoch= 90 \taccuracy= tensor(0.9901)\n",
            "Все параметры сети:\n",
            "----------------------------------------------------------------\n",
            "        Layer (type)               Output Shape         Param #\n",
            "================================================================\n",
            "            Conv2d-1            [-1, 6, 28, 28]             156\n",
            "              Tanh-2            [-1, 6, 28, 28]               0\n",
            "         AvgPool2d-3            [-1, 6, 14, 14]               0\n",
            "            Conv2d-4           [-1, 16, 10, 10]           2,416\n",
            "              Tanh-5           [-1, 16, 10, 10]               0\n",
            "         AvgPool2d-6             [-1, 16, 5, 5]               0\n",
            "            Linear-7                   [-1, 85]          34,085\n",
            "              Tanh-8                   [-1, 85]               0\n",
            "            Linear-9                   [-1, 49]           4,214\n",
            "             Tanh-10                   [-1, 49]               0\n",
            "           Linear-11                   [-1, 10]             500\n",
            "================================================================\n",
            "Total params: 41,371\n",
            "Trainable params: 41,371\n",
            "Non-trainable params: 0\n",
            "----------------------------------------------------------------\n",
            "Input size (MB): 0.00\n",
            "Forward/backward pass size (MB): 0.11\n",
            "Params size (MB): 0.16\n",
            "Estimated Total Size (MB): 0.27\n",
            "----------------------------------------------------------------\n",
            "===== 85 =====\n",
            "epoch= 0 \taccuracy= tensor(0.9746)\n",
            "epoch= 10 \taccuracy= tensor(0.9897)\n",
            "epoch= 20 \taccuracy= tensor(0.9883)\n",
            "epoch= 30 \taccuracy= tensor(0.9831)\n",
            "epoch= 40 \taccuracy= tensor(0.9896)\n",
            "epoch= 50 \taccuracy= tensor(0.9899)\n",
            "epoch= 60 \taccuracy= tensor(0.9901)\n",
            "epoch= 70 \taccuracy= tensor(0.9894)\n",
            "epoch= 80 \taccuracy= tensor(0.9887)\n",
            "epoch= 90 \taccuracy= tensor(0.9905)\n",
            "Все параметры сети:\n",
            "----------------------------------------------------------------\n",
            "        Layer (type)               Output Shape         Param #\n",
            "================================================================\n",
            "            Conv2d-1            [-1, 6, 28, 28]             156\n",
            "              Tanh-2            [-1, 6, 28, 28]               0\n",
            "         AvgPool2d-3            [-1, 6, 14, 14]               0\n",
            "            Conv2d-4           [-1, 16, 10, 10]           2,416\n",
            "              Tanh-5           [-1, 16, 10, 10]               0\n",
            "         AvgPool2d-6             [-1, 16, 5, 5]               0\n",
            "            Linear-7                   [-1, 80]          32,080\n",
            "              Tanh-8                   [-1, 80]               0\n",
            "            Linear-9                   [-1, 44]           3,564\n",
            "             Tanh-10                   [-1, 44]               0\n",
            "           Linear-11                   [-1, 10]             450\n",
            "================================================================\n",
            "Total params: 38,666\n",
            "Trainable params: 38,666\n",
            "Non-trainable params: 0\n",
            "----------------------------------------------------------------\n",
            "Input size (MB): 0.00\n",
            "Forward/backward pass size (MB): 0.11\n",
            "Params size (MB): 0.15\n",
            "Estimated Total Size (MB): 0.26\n",
            "----------------------------------------------------------------\n",
            "===== 80 =====\n",
            "epoch= 0 \taccuracy= tensor(0.9742)\n",
            "epoch= 10 \taccuracy= tensor(0.9882)\n",
            "epoch= 20 \taccuracy= tensor(0.9890)\n",
            "epoch= 30 \taccuracy= tensor(0.9895)\n",
            "epoch= 40 \taccuracy= tensor(0.9884)\n",
            "epoch= 50 \taccuracy= tensor(0.9903)\n",
            "epoch= 60 \taccuracy= tensor(0.9875)\n",
            "epoch= 70 \taccuracy= tensor(0.9883)\n",
            "epoch= 80 \taccuracy= tensor(0.9898)\n",
            "epoch= 90 \taccuracy= tensor(0.9889)\n",
            "Все параметры сети:\n",
            "----------------------------------------------------------------\n",
            "        Layer (type)               Output Shape         Param #\n",
            "================================================================\n",
            "            Conv2d-1            [-1, 6, 28, 28]             156\n",
            "              Tanh-2            [-1, 6, 28, 28]               0\n",
            "         AvgPool2d-3            [-1, 6, 14, 14]               0\n",
            "            Conv2d-4           [-1, 16, 10, 10]           2,416\n",
            "              Tanh-5           [-1, 16, 10, 10]               0\n",
            "         AvgPool2d-6             [-1, 16, 5, 5]               0\n",
            "            Linear-7                   [-1, 75]          30,075\n",
            "              Tanh-8                   [-1, 75]               0\n",
            "            Linear-9                   [-1, 39]           2,964\n",
            "             Tanh-10                   [-1, 39]               0\n",
            "           Linear-11                   [-1, 10]             400\n",
            "================================================================\n",
            "Total params: 36,011\n",
            "Trainable params: 36,011\n",
            "Non-trainable params: 0\n",
            "----------------------------------------------------------------\n",
            "Input size (MB): 0.00\n",
            "Forward/backward pass size (MB): 0.11\n",
            "Params size (MB): 0.14\n",
            "Estimated Total Size (MB): 0.25\n",
            "----------------------------------------------------------------\n",
            "===== 75 =====\n",
            "epoch= 0 \taccuracy= tensor(0.9769)\n",
            "epoch= 10 \taccuracy= tensor(0.9851)\n",
            "epoch= 20 \taccuracy= tensor(0.9876)\n",
            "epoch= 30 \taccuracy= tensor(0.9890)\n",
            "epoch= 40 \taccuracy= tensor(0.9889)\n",
            "epoch= 50 \taccuracy= tensor(0.9890)\n",
            "epoch= 60 \taccuracy= tensor(0.9890)\n",
            "epoch= 70 \taccuracy= tensor(0.9870)\n",
            "epoch= 80 \taccuracy= tensor(0.9888)\n",
            "epoch= 90 \taccuracy= tensor(0.9902)\n",
            "Все параметры сети:\n",
            "----------------------------------------------------------------\n",
            "        Layer (type)               Output Shape         Param #\n",
            "================================================================\n",
            "            Conv2d-1            [-1, 6, 28, 28]             156\n",
            "              Tanh-2            [-1, 6, 28, 28]               0\n",
            "         AvgPool2d-3            [-1, 6, 14, 14]               0\n",
            "            Conv2d-4           [-1, 16, 10, 10]           2,416\n",
            "              Tanh-5           [-1, 16, 10, 10]               0\n",
            "         AvgPool2d-6             [-1, 16, 5, 5]               0\n",
            "            Linear-7                   [-1, 70]          28,070\n",
            "              Tanh-8                   [-1, 70]               0\n",
            "            Linear-9                   [-1, 34]           2,414\n",
            "             Tanh-10                   [-1, 34]               0\n",
            "           Linear-11                   [-1, 10]             350\n",
            "================================================================\n",
            "Total params: 33,406\n",
            "Trainable params: 33,406\n",
            "Non-trainable params: 0\n",
            "----------------------------------------------------------------\n",
            "Input size (MB): 0.00\n",
            "Forward/backward pass size (MB): 0.11\n",
            "Params size (MB): 0.13\n",
            "Estimated Total Size (MB): 0.24\n",
            "----------------------------------------------------------------\n",
            "===== 70 =====\n",
            "epoch= 0 \taccuracy= tensor(0.9731)\n",
            "epoch= 10 \taccuracy= tensor(0.9879)\n",
            "epoch= 20 \taccuracy= tensor(0.9881)\n",
            "epoch= 30 \taccuracy= tensor(0.9869)\n",
            "epoch= 40 \taccuracy= tensor(0.9893)\n",
            "epoch= 50 \taccuracy= tensor(0.9897)\n",
            "epoch= 60 \taccuracy= tensor(0.9861)\n",
            "epoch= 70 \taccuracy= tensor(0.9873)\n",
            "epoch= 80 \taccuracy= tensor(0.9886)\n",
            "epoch= 90 \taccuracy= tensor(0.9880)\n",
            "Все параметры сети:\n",
            "----------------------------------------------------------------\n",
            "        Layer (type)               Output Shape         Param #\n",
            "================================================================\n",
            "            Conv2d-1            [-1, 6, 28, 28]             156\n",
            "              Tanh-2            [-1, 6, 28, 28]               0\n",
            "         AvgPool2d-3            [-1, 6, 14, 14]               0\n",
            "            Conv2d-4           [-1, 16, 10, 10]           2,416\n",
            "              Tanh-5           [-1, 16, 10, 10]               0\n",
            "         AvgPool2d-6             [-1, 16, 5, 5]               0\n",
            "            Linear-7                   [-1, 65]          26,065\n",
            "              Tanh-8                   [-1, 65]               0\n",
            "            Linear-9                   [-1, 29]           1,914\n",
            "             Tanh-10                   [-1, 29]               0\n",
            "           Linear-11                   [-1, 10]             300\n",
            "================================================================\n",
            "Total params: 30,851\n",
            "Trainable params: 30,851\n",
            "Non-trainable params: 0\n",
            "----------------------------------------------------------------\n",
            "Input size (MB): 0.00\n",
            "Forward/backward pass size (MB): 0.11\n",
            "Params size (MB): 0.12\n",
            "Estimated Total Size (MB): 0.23\n",
            "----------------------------------------------------------------\n",
            "===== 65 =====\n",
            "epoch= 0 \taccuracy= tensor(0.9775)\n",
            "epoch= 10 \taccuracy= tensor(0.9871)\n",
            "epoch= 20 \taccuracy= tensor(0.9856)\n",
            "epoch= 30 \taccuracy= tensor(0.9871)\n",
            "epoch= 40 \taccuracy= tensor(0.9879)\n",
            "epoch= 50 \taccuracy= tensor(0.9889)\n",
            "epoch= 60 \taccuracy= tensor(0.9876)\n",
            "epoch= 70 \taccuracy= tensor(0.9882)\n",
            "epoch= 80 \taccuracy= tensor(0.9881)\n",
            "epoch= 90 \taccuracy= tensor(0.9874)\n"
          ],
          "name": "stdout"
        }
      ]
    },
    {
      "cell_type": "code",
      "metadata": {
        "id": "Cqf78pevaL-f",
        "colab_type": "code",
        "colab": {}
      },
      "source": [
        "import pandas as pd\n",
        "import numpy as np"
      ],
      "execution_count": 0,
      "outputs": []
    },
    {
      "cell_type": "code",
      "metadata": {
        "id": "EL85CehGqtaM",
        "colab_type": "code",
        "colab": {}
      },
      "source": [
        "test_loss_history_np=np.array(test_loss_history)\n",
        "test_accuracy_history_np=np.array(test_accuracy_history)\n"
      ],
      "execution_count": 0,
      "outputs": []
    },
    {
      "cell_type": "code",
      "metadata": {
        "id": "rUSym-146yLA",
        "colab_type": "code",
        "outputId": "1189f1f0-6c8b-42be-a157-ca27d1391a1d",
        "colab": {
          "base_uri": "https://localhost:8080/",
          "height": 51
        }
      },
      "source": [
        "x1=np.copy(test_loss_history_np)\n",
        "x2=np.copy(test_accuracy_history_np)\n",
        "#показание лосс функции на последней эпохе\n",
        "print(test_loss_history_np[:,-1])\n",
        "\n"
      ],
      "execution_count": 19,
      "outputs": [
        {
          "output_type": "stream",
          "text": [
            "[0.04950827 0.05761378 0.05888432 0.06057742 0.06183456 0.04736063\n",
            " 0.06064184 0.04767781 0.05613217 0.05540742 0.08377557 0.06259658]\n"
          ],
          "name": "stdout"
        }
      ]
    },
    {
      "cell_type": "code",
      "metadata": {
        "id": "fmyvMoZ-7hBz",
        "colab_type": "code",
        "outputId": "5b36bbec-04bc-4b79-dc24-0510cea82856",
        "colab": {
          "base_uri": "https://localhost:8080/",
          "height": 51
        }
      },
      "source": [
        "#точность предсказания на последней эпохе \n",
        "print(test_accuracy_history_np[:,-1])"
      ],
      "execution_count": 20,
      "outputs": [
        {
          "output_type": "stream",
          "text": [
            "[0.9898     0.988      0.98899996 0.9884     0.9891     0.991\n",
            " 0.98859996 0.98999995 0.98899996 0.9878     0.9842     0.98679996]\n"
          ],
          "name": "stdout"
        }
      ]
    },
    {
      "cell_type": "code",
      "metadata": {
        "id": "kljFeh6l-4T8",
        "colab_type": "code",
        "colab": {}
      },
      "source": [
        "# save numpy array as csv file\n",
        "from numpy import asarray\n",
        "from numpy import savetxt\n",
        "# define data\n",
        "# save to csv file\n",
        "savetxt('120-64_test_loss_history_np.csv', test_loss_history_np, delimiter=',')\n",
        "savetxt('120-64_test_accuracy_history_np.csv', test_accuracy_history_np, delimiter=',')\n",
        "\n",
        "# load numpy array from csv file\n",
        "# from numpy import loadtxt\n",
        "# # load array\n",
        "# test_loss_history_np = loadtxt('./test_loss_history_np.csv', delimiter=',')\n",
        "# test_accuracy_history_np = loadtxt('./test_accuracy_history_np.csv', delimiter=',')"
      ],
      "execution_count": 0,
      "outputs": []
    },
    {
      "cell_type": "code",
      "metadata": {
        "id": "KGl6OHgeiFBl",
        "colab_type": "code",
        "colab": {}
      },
      "source": [
        "from numpy import genfromtxt\n"
      ],
      "execution_count": 0,
      "outputs": []
    },
    {
      "cell_type": "code",
      "metadata": {
        "id": "TuPwYX1oXXmC",
        "colab_type": "code",
        "colab": {}
      },
      "source": [
        "test_accuracy_history_np = genfromtxt('/content/120-64_test_accuracy_history_np.csv', delimiter=',')"
      ],
      "execution_count": 0,
      "outputs": []
    },
    {
      "cell_type": "code",
      "metadata": {
        "id": "ZzSk5QvhXYBW",
        "colab_type": "code",
        "colab": {}
      },
      "source": [
        "test_loss_history_np = genfromtxt('/content/120-64_test_loss_history_np.csv', delimiter=',')"
      ],
      "execution_count": 0,
      "outputs": []
    },
    {
      "cell_type": "code",
      "metadata": {
        "id": "QN1O_QkQXmD8",
        "colab_type": "code",
        "colab": {
          "base_uri": "https://localhost:8080/",
          "height": 34
        },
        "outputId": "c8020ec9-d017-4aa0-f582-e9f8280083cf"
      },
      "source": [
        "print(test_accuracy_history_np[-1:,0])"
      ],
      "execution_count": 48,
      "outputs": [
        {
          "output_type": "stream",
          "text": [
            "[0.97749996]\n"
          ],
          "name": "stdout"
        }
      ]
    },
    {
      "cell_type": "code",
      "metadata": {
        "id": "YvLW6oHmbv6h",
        "colab_type": "code",
        "colab": {
          "base_uri": "https://localhost:8080/",
          "height": 422
        },
        "outputId": "3adba61b-a31e-4745-961c-effdd1c48882"
      },
      "source": [
        "fig, ax = plt.subplots(figsize=(12,6))\n",
        "\n",
        "ax.plot(np.arange(120, 60, -5),test_accuracy_history_np[:,-1])  \n",
        "\n",
        "plt.gca().invert_xaxis()\n",
        "\n",
        "ax.set_xlabel('Число нейрнов в слое')\n",
        "\n",
        "ax.set_ylabel('Точность  предсказания сети')\n",
        "plt.savefig('4.png')\n",
        "\n",
        "print('максимальная точность на последнй эпохе обучения ',test_accuracy_history_np[:,-1].max())\n",
        "#print('т.е. когда число нейронов было ',120-5*(test_accuracy_history_np[:,-1].argmax()+1)) \n",
        "print('минимальная точность  на последнй эпохе обучения',test_accuracy_history_np[:,-1].min())\n",
        "#print('т.е. когда число нейронов было ',120-5*(test_accuracy_history_np[:,-1].argmin())) "
      ],
      "execution_count": 54,
      "outputs": [
        {
          "output_type": "stream",
          "text": [
            "максимальная точность на последнй эпохе обучения  0.9909999966621399\n",
            "минимальная точность  на последнй эпохе обучения 0.9842000007629395\n"
          ],
          "name": "stdout"
        },
        {
          "output_type": "display_data",
          "data": {
            "image/png": "[encoded data removed]",
            "text/plain": [
              "<Figure size 864x432 with 1 Axes>"
            ]
          },
          "metadata": {
            "tags": [],
            "needs_background": "light"
          }
        }
      ]
    },
    {
      "cell_type": "code",
      "metadata": {
        "id": "Offj-bMneZoG",
        "colab_type": "code",
        "colab": {}
      },
      "source": [
        ""
      ],
      "execution_count": 0,
      "outputs": []
    }
  ]
}