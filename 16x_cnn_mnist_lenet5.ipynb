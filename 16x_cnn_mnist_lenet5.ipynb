{
  "nbformat": 4,
  "nbformat_minor": 0,
  "metadata": {
    "accelerator": "GPU",
    "colab": {
      "name": "16x_cnn_mnist_lenet5.ipynb",
      "provenance": [],
      "collapsed_sections": [],
      "toc_visible": true,
      "include_colab_link": true
    },
    "kernelspec": {
      "name": "python3",
      "display_name": "Python 3"
    },
    "language_info": {
      "codemirror_mode": {
        "name": "ipython",
        "version": 3
      },
      "file_extension": ".py",
      "mimetype": "text/x-python",
      "name": "python",
      "nbconvert_exporter": "python",
      "pygments_lexer": "ipython3",
      "version": "3.6.8"
    },
    "widgets": {
      "application/vnd.jupyter.widget-state+json": {
        "ee43f07e07934570a17a18dce66b2290": {
          "model_module": "@jupyter-widgets/controls",
          "model_name": "HBoxModel",
          "state": {
            "_view_name": "HBoxView",
            "_dom_classes": [],
            "_model_name": "HBoxModel",
            "_view_module": "@jupyter-widgets/controls",
            "_model_module_version": "1.5.0",
            "_view_count": null,
            "_view_module_version": "1.5.0",
            "box_style": "",
            "layout": "IPY_MODEL_afcb433b634b41dbb40ee5384764bd84",
            "_model_module": "@jupyter-widgets/controls",
            "children": [
              "IPY_MODEL_c5c68317c6754570b0ea5c5cfbbe61a8",
              "IPY_MODEL_f9df1a67c90c432eae3d059a81f012c0"
            ]
          }
        },
        "afcb433b634b41dbb40ee5384764bd84": {
          "model_module": "@jupyter-widgets/base",
          "model_name": "LayoutModel",
          "state": {
            "_view_name": "LayoutView",
            "grid_template_rows": null,
            "right": null,
            "justify_content": null,
            "_view_module": "@jupyter-widgets/base",
            "overflow": null,
            "_model_module_version": "1.2.0",
            "_view_count": null,
            "flex_flow": null,
            "width": null,
            "min_width": null,
            "border": null,
            "align_items": null,
            "bottom": null,
            "_model_module": "@jupyter-widgets/base",
            "top": null,
            "grid_column": null,
            "overflow_y": null,
            "overflow_x": null,
            "grid_auto_flow": null,
            "grid_area": null,
            "grid_template_columns": null,
            "flex": null,
            "_model_name": "LayoutModel",
            "justify_items": null,
            "grid_row": null,
            "max_height": null,
            "align_content": null,
            "visibility": null,
            "align_self": null,
            "height": null,
            "min_height": null,
            "padding": null,
            "grid_auto_rows": null,
            "grid_gap": null,
            "max_width": null,
            "order": null,
            "_view_module_version": "1.2.0",
            "grid_template_areas": null,
            "object_position": null,
            "object_fit": null,
            "grid_auto_columns": null,
            "margin": null,
            "display": null,
            "left": null
          }
        },
        "c5c68317c6754570b0ea5c5cfbbe61a8": {
          "model_module": "@jupyter-widgets/controls",
          "model_name": "IntProgressModel",
          "state": {
            "_view_name": "ProgressView",
            "style": "IPY_MODEL_3f1d7df228604702be8952ff4741ae46",
            "_dom_classes": [],
            "description": "",
            "_model_name": "IntProgressModel",
            "bar_style": "info",
            "max": 1,
            "_view_module": "@jupyter-widgets/controls",
            "_model_module_version": "1.5.0",
            "value": 1,
            "_view_count": null,
            "_view_module_version": "1.5.0",
            "orientation": "horizontal",
            "min": 0,
            "description_tooltip": null,
            "_model_module": "@jupyter-widgets/controls",
            "layout": "IPY_MODEL_8737fc798e944057a9d6ddc5506f8d63"
          }
        },
        "f9df1a67c90c432eae3d059a81f012c0": {
          "model_module": "@jupyter-widgets/controls",
          "model_name": "HTMLModel",
          "state": {
            "_view_name": "HTMLView",
            "style": "IPY_MODEL_fc5d25ec75df4f98a5180f15dd85a70c",
            "_dom_classes": [],
            "description": "",
            "_model_name": "HTMLModel",
            "placeholder": "​",
            "_view_module": "@jupyter-widgets/controls",
            "_model_module_version": "1.5.0",
            "value": " 9920512/? [00:20&lt;00:00, 756534.12it/s]",
            "_view_count": null,
            "_view_module_version": "1.5.0",
            "description_tooltip": null,
            "_model_module": "@jupyter-widgets/controls",
            "layout": "IPY_MODEL_abb12884d7624bb483f68175980c0d57"
          }
        },
        "3f1d7df228604702be8952ff4741ae46": {
          "model_module": "@jupyter-widgets/controls",
          "model_name": "ProgressStyleModel",
          "state": {
            "_view_name": "StyleView",
            "_model_name": "ProgressStyleModel",
            "description_width": "initial",
            "_view_module": "@jupyter-widgets/base",
            "_model_module_version": "1.5.0",
            "_view_count": null,
            "_view_module_version": "1.2.0",
            "bar_color": null,
            "_model_module": "@jupyter-widgets/controls"
          }
        },
        "8737fc798e944057a9d6ddc5506f8d63": {
          "model_module": "@jupyter-widgets/base",
          "model_name": "LayoutModel",
          "state": {
            "_view_name": "LayoutView",
            "grid_template_rows": null,
            "right": null,
            "justify_content": null,
            "_view_module": "@jupyter-widgets/base",
            "overflow": null,
            "_model_module_version": "1.2.0",
            "_view_count": null,
            "flex_flow": null,
            "width": null,
            "min_width": null,
            "border": null,
            "align_items": null,
            "bottom": null,
            "_model_module": "@jupyter-widgets/base",
            "top": null,
            "grid_column": null,
            "overflow_y": null,
            "overflow_x": null,
            "grid_auto_flow": null,
            "grid_area": null,
            "grid_template_columns": null,
            "flex": null,
            "_model_name": "LayoutModel",
            "justify_items": null,
            "grid_row": null,
            "max_height": null,
            "align_content": null,
            "visibility": null,
            "align_self": null,
            "height": null,
            "min_height": null,
            "padding": null,
            "grid_auto_rows": null,
            "grid_gap": null,
            "max_width": null,
            "order": null,
            "_view_module_version": "1.2.0",
            "grid_template_areas": null,
            "object_position": null,
            "object_fit": null,
            "grid_auto_columns": null,
            "margin": null,
            "display": null,
            "left": null
          }
        },
        "fc5d25ec75df4f98a5180f15dd85a70c": {
          "model_module": "@jupyter-widgets/controls",
          "model_name": "DescriptionStyleModel",
          "state": {
            "_view_name": "StyleView",
            "_model_name": "DescriptionStyleModel",
            "description_width": "",
            "_view_module": "@jupyter-widgets/base",
            "_model_module_version": "1.5.0",
            "_view_count": null,
            "_view_module_version": "1.2.0",
            "_model_module": "@jupyter-widgets/controls"
          }
        },
        "abb12884d7624bb483f68175980c0d57": {
          "model_module": "@jupyter-widgets/base",
          "model_name": "LayoutModel",
          "state": {
            "_view_name": "LayoutView",
            "grid_template_rows": null,
            "right": null,
            "justify_content": null,
            "_view_module": "@jupyter-widgets/base",
            "overflow": null,
            "_model_module_version": "1.2.0",
            "_view_count": null,
            "flex_flow": null,
            "width": null,
            "min_width": null,
            "border": null,
            "align_items": null,
            "bottom": null,
            "_model_module": "@jupyter-widgets/base",
            "top": null,
            "grid_column": null,
            "overflow_y": null,
            "overflow_x": null,
            "grid_auto_flow": null,
            "grid_area": null,
            "grid_template_columns": null,
            "flex": null,
            "_model_name": "LayoutModel",
            "justify_items": null,
            "grid_row": null,
            "max_height": null,
            "align_content": null,
            "visibility": null,
            "align_self": null,
            "height": null,
            "min_height": null,
            "padding": null,
            "grid_auto_rows": null,
            "grid_gap": null,
            "max_width": null,
            "order": null,
            "_view_module_version": "1.2.0",
            "grid_template_areas": null,
            "object_position": null,
            "object_fit": null,
            "grid_auto_columns": null,
            "margin": null,
            "display": null,
            "left": null
          }
        },
        "8f7febe197ec4c91b814f7739737bb39": {
          "model_module": "@jupyter-widgets/controls",
          "model_name": "HBoxModel",
          "state": {
            "_view_name": "HBoxView",
            "_dom_classes": [],
            "_model_name": "HBoxModel",
            "_view_module": "@jupyter-widgets/controls",
            "_model_module_version": "1.5.0",
            "_view_count": null,
            "_view_module_version": "1.5.0",
            "box_style": "",
            "layout": "IPY_MODEL_c938358eef9f49578e9e98d379065410",
            "_model_module": "@jupyter-widgets/controls",
            "children": [
              "IPY_MODEL_fb22350647524001923ecb1205984dea",
              "IPY_MODEL_a832729c92e849399618992e363b2da9"
            ]
          }
        },
        "c938358eef9f49578e9e98d379065410": {
          "model_module": "@jupyter-widgets/base",
          "model_name": "LayoutModel",
          "state": {
            "_view_name": "LayoutView",
            "grid_template_rows": null,
            "right": null,
            "justify_content": null,
            "_view_module": "@jupyter-widgets/base",
            "overflow": null,
            "_model_module_version": "1.2.0",
            "_view_count": null,
            "flex_flow": null,
            "width": null,
            "min_width": null,
            "border": null,
            "align_items": null,
            "bottom": null,
            "_model_module": "@jupyter-widgets/base",
            "top": null,
            "grid_column": null,
            "overflow_y": null,
            "overflow_x": null,
            "grid_auto_flow": null,
            "grid_area": null,
            "grid_template_columns": null,
            "flex": null,
            "_model_name": "LayoutModel",
            "justify_items": null,
            "grid_row": null,
            "max_height": null,
            "align_content": null,
            "visibility": null,
            "align_self": null,
            "height": null,
            "min_height": null,
            "padding": null,
            "grid_auto_rows": null,
            "grid_gap": null,
            "max_width": null,
            "order": null,
            "_view_module_version": "1.2.0",
            "grid_template_areas": null,
            "object_position": null,
            "object_fit": null,
            "grid_auto_columns": null,
            "margin": null,
            "display": null,
            "left": null
          }
        },
        "fb22350647524001923ecb1205984dea": {
          "model_module": "@jupyter-widgets/controls",
          "model_name": "IntProgressModel",
          "state": {
            "_view_name": "ProgressView",
            "style": "IPY_MODEL_11a2a856da2444389318c572398b1438",
            "_dom_classes": [],
            "description": "  0%",
            "_model_name": "IntProgressModel",
            "bar_style": "info",
            "max": 1,
            "_view_module": "@jupyter-widgets/controls",
            "_model_module_version": "1.5.0",
            "value": 0,
            "_view_count": null,
            "_view_module_version": "1.5.0",
            "orientation": "horizontal",
            "min": 0,
            "description_tooltip": null,
            "_model_module": "@jupyter-widgets/controls",
            "layout": "IPY_MODEL_ab36452477cb48e186a88ffc41639888"
          }
        },
        "a832729c92e849399618992e363b2da9": {
          "model_module": "@jupyter-widgets/controls",
          "model_name": "HTMLModel",
          "state": {
            "_view_name": "HTMLView",
            "style": "IPY_MODEL_c0c9ce679e8048dbbd00624b3518bcbc",
            "_dom_classes": [],
            "description": "",
            "_model_name": "HTMLModel",
            "placeholder": "​",
            "_view_module": "@jupyter-widgets/controls",
            "_model_module_version": "1.5.0",
            "value": " 0/28881 [00:00&lt;?, ?it/s]",
            "_view_count": null,
            "_view_module_version": "1.5.0",
            "description_tooltip": null,
            "_model_module": "@jupyter-widgets/controls",
            "layout": "IPY_MODEL_ccd7856d3f424cbd9fbea7ecda878fe3"
          }
        },
        "11a2a856da2444389318c572398b1438": {
          "model_module": "@jupyter-widgets/controls",
          "model_name": "ProgressStyleModel",
          "state": {
            "_view_name": "StyleView",
            "_model_name": "ProgressStyleModel",
            "description_width": "initial",
            "_view_module": "@jupyter-widgets/base",
            "_model_module_version": "1.5.0",
            "_view_count": null,
            "_view_module_version": "1.2.0",
            "bar_color": null,
            "_model_module": "@jupyter-widgets/controls"
          }
        },
        "ab36452477cb48e186a88ffc41639888": {
          "model_module": "@jupyter-widgets/base",
          "model_name": "LayoutModel",
          "state": {
            "_view_name": "LayoutView",
            "grid_template_rows": null,
            "right": null,
            "justify_content": null,
            "_view_module": "@jupyter-widgets/base",
            "overflow": null,
            "_model_module_version": "1.2.0",
            "_view_count": null,
            "flex_flow": null,
            "width": null,
            "min_width": null,
            "border": null,
            "align_items": null,
            "bottom": null,
            "_model_module": "@jupyter-widgets/base",
            "top": null,
            "grid_column": null,
            "overflow_y": null,
            "overflow_x": null,
            "grid_auto_flow": null,
            "grid_area": null,
            "grid_template_columns": null,
            "flex": null,
            "_model_name": "LayoutModel",
            "justify_items": null,
            "grid_row": null,
            "max_height": null,
            "align_content": null,
            "visibility": null,
            "align_self": null,
            "height": null,
            "min_height": null,
            "padding": null,
            "grid_auto_rows": null,
            "grid_gap": null,
            "max_width": null,
            "order": null,
            "_view_module_version": "1.2.0",
            "grid_template_areas": null,
            "object_position": null,
            "object_fit": null,
            "grid_auto_columns": null,
            "margin": null,
            "display": null,
            "left": null
          }
        },
        "c0c9ce679e8048dbbd00624b3518bcbc": {
          "model_module": "@jupyter-widgets/controls",
          "model_name": "DescriptionStyleModel",
          "state": {
            "_view_name": "StyleView",
            "_model_name": "DescriptionStyleModel",
            "description_width": "",
            "_view_module": "@jupyter-widgets/base",
            "_model_module_version": "1.5.0",
            "_view_count": null,
            "_view_module_version": "1.2.0",
            "_model_module": "@jupyter-widgets/controls"
          }
        },
        "ccd7856d3f424cbd9fbea7ecda878fe3": {
          "model_module": "@jupyter-widgets/base",
          "model_name": "LayoutModel",
          "state": {
            "_view_name": "LayoutView",
            "grid_template_rows": null,
            "right": null,
            "justify_content": null,
            "_view_module": "@jupyter-widgets/base",
            "overflow": null,
            "_model_module_version": "1.2.0",
            "_view_count": null,
            "flex_flow": null,
            "width": null,
            "min_width": null,
            "border": null,
            "align_items": null,
            "bottom": null,
            "_model_module": "@jupyter-widgets/base",
            "top": null,
            "grid_column": null,
            "overflow_y": null,
            "overflow_x": null,
            "grid_auto_flow": null,
            "grid_area": null,
            "grid_template_columns": null,
            "flex": null,
            "_model_name": "LayoutModel",
            "justify_items": null,
            "grid_row": null,
            "max_height": null,
            "align_content": null,
            "visibility": null,
            "align_self": null,
            "height": null,
            "min_height": null,
            "padding": null,
            "grid_auto_rows": null,
            "grid_gap": null,
            "max_width": null,
            "order": null,
            "_view_module_version": "1.2.0",
            "grid_template_areas": null,
            "object_position": null,
            "object_fit": null,
            "grid_auto_columns": null,
            "margin": null,
            "display": null,
            "left": null
          }
        },
        "927eaced7d984aa39eddb9865ee03cc3": {
          "model_module": "@jupyter-widgets/controls",
          "model_name": "HBoxModel",
          "state": {
            "_view_name": "HBoxView",
            "_dom_classes": [],
            "_model_name": "HBoxModel",
            "_view_module": "@jupyter-widgets/controls",
            "_model_module_version": "1.5.0",
            "_view_count": null,
            "_view_module_version": "1.5.0",
            "box_style": "",
            "layout": "IPY_MODEL_d94462ad7eea465e926710d2a74ed9c7",
            "_model_module": "@jupyter-widgets/controls",
            "children": [
              "IPY_MODEL_8343289b8fde476889f9340e72cc7a54",
              "IPY_MODEL_cdea80b6c5b344299bd51758f05ec750"
            ]
          }
        },
        "d94462ad7eea465e926710d2a74ed9c7": {
          "model_module": "@jupyter-widgets/base",
          "model_name": "LayoutModel",
          "state": {
            "_view_name": "LayoutView",
            "grid_template_rows": null,
            "right": null,
            "justify_content": null,
            "_view_module": "@jupyter-widgets/base",
            "overflow": null,
            "_model_module_version": "1.2.0",
            "_view_count": null,
            "flex_flow": null,
            "width": null,
            "min_width": null,
            "border": null,
            "align_items": null,
            "bottom": null,
            "_model_module": "@jupyter-widgets/base",
            "top": null,
            "grid_column": null,
            "overflow_y": null,
            "overflow_x": null,
            "grid_auto_flow": null,
            "grid_area": null,
            "grid_template_columns": null,
            "flex": null,
            "_model_name": "LayoutModel",
            "justify_items": null,
            "grid_row": null,
            "max_height": null,
            "align_content": null,
            "visibility": null,
            "align_self": null,
            "height": null,
            "min_height": null,
            "padding": null,
            "grid_auto_rows": null,
            "grid_gap": null,
            "max_width": null,
            "order": null,
            "_view_module_version": "1.2.0",
            "grid_template_areas": null,
            "object_position": null,
            "object_fit": null,
            "grid_auto_columns": null,
            "margin": null,
            "display": null,
            "left": null
          }
        },
        "8343289b8fde476889f9340e72cc7a54": {
          "model_module": "@jupyter-widgets/controls",
          "model_name": "IntProgressModel",
          "state": {
            "_view_name": "ProgressView",
            "style": "IPY_MODEL_8cb49ab98a8441fbb80aa31396e9bdc1",
            "_dom_classes": [],
            "description": "",
            "_model_name": "IntProgressModel",
            "bar_style": "info",
            "max": 1,
            "_view_module": "@jupyter-widgets/controls",
            "_model_module_version": "1.5.0",
            "value": 1,
            "_view_count": null,
            "_view_module_version": "1.5.0",
            "orientation": "horizontal",
            "min": 0,
            "description_tooltip": null,
            "_model_module": "@jupyter-widgets/controls",
            "layout": "IPY_MODEL_b53faf45f74646d9a049e6692879bf2e"
          }
        },
        "cdea80b6c5b344299bd51758f05ec750": {
          "model_module": "@jupyter-widgets/controls",
          "model_name": "HTMLModel",
          "state": {
            "_view_name": "HTMLView",
            "style": "IPY_MODEL_60aa94262d2b46a5b3faaf71dfc5ece7",
            "_dom_classes": [],
            "description": "",
            "_model_name": "HTMLModel",
            "placeholder": "​",
            "_view_module": "@jupyter-widgets/controls",
            "_model_module_version": "1.5.0",
            "value": " 1654784/? [00:18&lt;00:00, 212657.88it/s]",
            "_view_count": null,
            "_view_module_version": "1.5.0",
            "description_tooltip": null,
            "_model_module": "@jupyter-widgets/controls",
            "layout": "IPY_MODEL_ff4c78d305b14d45b0dfeed0c8884a98"
          }
        },
        "8cb49ab98a8441fbb80aa31396e9bdc1": {
          "model_module": "@jupyter-widgets/controls",
          "model_name": "ProgressStyleModel",
          "state": {
            "_view_name": "StyleView",
            "_model_name": "ProgressStyleModel",
            "description_width": "initial",
            "_view_module": "@jupyter-widgets/base",
            "_model_module_version": "1.5.0",
            "_view_count": null,
            "_view_module_version": "1.2.0",
            "bar_color": null,
            "_model_module": "@jupyter-widgets/controls"
          }
        },
        "b53faf45f74646d9a049e6692879bf2e": {
          "model_module": "@jupyter-widgets/base",
          "model_name": "LayoutModel",
          "state": {
            "_view_name": "LayoutView",
            "grid_template_rows": null,
            "right": null,
            "justify_content": null,
            "_view_module": "@jupyter-widgets/base",
            "overflow": null,
            "_model_module_version": "1.2.0",
            "_view_count": null,
            "flex_flow": null,
            "width": null,
            "min_width": null,
            "border": null,
            "align_items": null,
            "bottom": null,
            "_model_module": "@jupyter-widgets/base",
            "top": null,
            "grid_column": null,
            "overflow_y": null,
            "overflow_x": null,
            "grid_auto_flow": null,
            "grid_area": null,
            "grid_template_columns": null,
            "flex": null,
            "_model_name": "LayoutModel",
            "justify_items": null,
            "grid_row": null,
            "max_height": null,
            "align_content": null,
            "visibility": null,
            "align_self": null,
            "height": null,
            "min_height": null,
            "padding": null,
            "grid_auto_rows": null,
            "grid_gap": null,
            "max_width": null,
            "order": null,
            "_view_module_version": "1.2.0",
            "grid_template_areas": null,
            "object_position": null,
            "object_fit": null,
            "grid_auto_columns": null,
            "margin": null,
            "display": null,
            "left": null
          }
        },
        "60aa94262d2b46a5b3faaf71dfc5ece7": {
          "model_module": "@jupyter-widgets/controls",
          "model_name": "DescriptionStyleModel",
          "state": {
            "_view_name": "StyleView",
            "_model_name": "DescriptionStyleModel",
            "description_width": "",
            "_view_module": "@jupyter-widgets/base",
            "_model_module_version": "1.5.0",
            "_view_count": null,
            "_view_module_version": "1.2.0",
            "_model_module": "@jupyter-widgets/controls"
          }
        },
        "ff4c78d305b14d45b0dfeed0c8884a98": {
          "model_module": "@jupyter-widgets/base",
          "model_name": "LayoutModel",
          "state": {
            "_view_name": "LayoutView",
            "grid_template_rows": null,
            "right": null,
            "justify_content": null,
            "_view_module": "@jupyter-widgets/base",
            "overflow": null,
            "_model_module_version": "1.2.0",
            "_view_count": null,
            "flex_flow": null,
            "width": null,
            "min_width": null,
            "border": null,
            "align_items": null,
            "bottom": null,
            "_model_module": "@jupyter-widgets/base",
            "top": null,
            "grid_column": null,
            "overflow_y": null,
            "overflow_x": null,
            "grid_auto_flow": null,
            "grid_area": null,
            "grid_template_columns": null,
            "flex": null,
            "_model_name": "LayoutModel",
            "justify_items": null,
            "grid_row": null,
            "max_height": null,
            "align_content": null,
            "visibility": null,
            "align_self": null,
            "height": null,
            "min_height": null,
            "padding": null,
            "grid_auto_rows": null,
            "grid_gap": null,
            "max_width": null,
            "order": null,
            "_view_module_version": "1.2.0",
            "grid_template_areas": null,
            "object_position": null,
            "object_fit": null,
            "grid_auto_columns": null,
            "margin": null,
            "display": null,
            "left": null
          }
        },
        "50dbbbc8936b41c596f9bcd6287cfa7c": {
          "model_module": "@jupyter-widgets/controls",
          "model_name": "HBoxModel",
          "state": {
            "_view_name": "HBoxView",
            "_dom_classes": [],
            "_model_name": "HBoxModel",
            "_view_module": "@jupyter-widgets/controls",
            "_model_module_version": "1.5.0",
            "_view_count": null,
            "_view_module_version": "1.5.0",
            "box_style": "",
            "layout": "IPY_MODEL_3fb4d586e5204e80b7db1967b9d166f9",
            "_model_module": "@jupyter-widgets/controls",
            "children": [
              "IPY_MODEL_61de985089464efe98ed68831937c81d",
              "IPY_MODEL_8400113b6d8e43af910d15fc6e0df18c"
            ]
          }
        },
        "3fb4d586e5204e80b7db1967b9d166f9": {
          "model_module": "@jupyter-widgets/base",
          "model_name": "LayoutModel",
          "state": {
            "_view_name": "LayoutView",
            "grid_template_rows": null,
            "right": null,
            "justify_content": null,
            "_view_module": "@jupyter-widgets/base",
            "overflow": null,
            "_model_module_version": "1.2.0",
            "_view_count": null,
            "flex_flow": null,
            "width": null,
            "min_width": null,
            "border": null,
            "align_items": null,
            "bottom": null,
            "_model_module": "@jupyter-widgets/base",
            "top": null,
            "grid_column": null,
            "overflow_y": null,
            "overflow_x": null,
            "grid_auto_flow": null,
            "grid_area": null,
            "grid_template_columns": null,
            "flex": null,
            "_model_name": "LayoutModel",
            "justify_items": null,
            "grid_row": null,
            "max_height": null,
            "align_content": null,
            "visibility": null,
            "align_self": null,
            "height": null,
            "min_height": null,
            "padding": null,
            "grid_auto_rows": null,
            "grid_gap": null,
            "max_width": null,
            "order": null,
            "_view_module_version": "1.2.0",
            "grid_template_areas": null,
            "object_position": null,
            "object_fit": null,
            "grid_auto_columns": null,
            "margin": null,
            "display": null,
            "left": null
          }
        },
        "61de985089464efe98ed68831937c81d": {
          "model_module": "@jupyter-widgets/controls",
          "model_name": "IntProgressModel",
          "state": {
            "_view_name": "ProgressView",
            "style": "IPY_MODEL_e0cfd108093442eea33c645a9b25b61b",
            "_dom_classes": [],
            "description": "  0%",
            "_model_name": "IntProgressModel",
            "bar_style": "info",
            "max": 1,
            "_view_module": "@jupyter-widgets/controls",
            "_model_module_version": "1.5.0",
            "value": 0,
            "_view_count": null,
            "_view_module_version": "1.5.0",
            "orientation": "horizontal",
            "min": 0,
            "description_tooltip": null,
            "_model_module": "@jupyter-widgets/controls",
            "layout": "IPY_MODEL_e0c4fc5d7bcf46468128df066119755f"
          }
        },
        "8400113b6d8e43af910d15fc6e0df18c": {
          "model_module": "@jupyter-widgets/controls",
          "model_name": "HTMLModel",
          "state": {
            "_view_name": "HTMLView",
            "style": "IPY_MODEL_833e78aeac7e462eba1a644c2d1a33c7",
            "_dom_classes": [],
            "description": "",
            "_model_name": "HTMLModel",
            "placeholder": "​",
            "_view_module": "@jupyter-widgets/controls",
            "_model_module_version": "1.5.0",
            "value": " 0/4542 [00:00&lt;?, ?it/s]",
            "_view_count": null,
            "_view_module_version": "1.5.0",
            "description_tooltip": null,
            "_model_module": "@jupyter-widgets/controls",
            "layout": "IPY_MODEL_084b75fb5014453cb1c60cd7e7a0d0b9"
          }
        },
        "e0cfd108093442eea33c645a9b25b61b": {
          "model_module": "@jupyter-widgets/controls",
          "model_name": "ProgressStyleModel",
          "state": {
            "_view_name": "StyleView",
            "_model_name": "ProgressStyleModel",
            "description_width": "initial",
            "_view_module": "@jupyter-widgets/base",
            "_model_module_version": "1.5.0",
            "_view_count": null,
            "_view_module_version": "1.2.0",
            "bar_color": null,
            "_model_module": "@jupyter-widgets/controls"
          }
        },
        "e0c4fc5d7bcf46468128df066119755f": {
          "model_module": "@jupyter-widgets/base",
          "model_name": "LayoutModel",
          "state": {
            "_view_name": "LayoutView",
            "grid_template_rows": null,
            "right": null,
            "justify_content": null,
            "_view_module": "@jupyter-widgets/base",
            "overflow": null,
            "_model_module_version": "1.2.0",
            "_view_count": null,
            "flex_flow": null,
            "width": null,
            "min_width": null,
            "border": null,
            "align_items": null,
            "bottom": null,
            "_model_module": "@jupyter-widgets/base",
            "top": null,
            "grid_column": null,
            "overflow_y": null,
            "overflow_x": null,
            "grid_auto_flow": null,
            "grid_area": null,
            "grid_template_columns": null,
            "flex": null,
            "_model_name": "LayoutModel",
            "justify_items": null,
            "grid_row": null,
            "max_height": null,
            "align_content": null,
            "visibility": null,
            "align_self": null,
            "height": null,
            "min_height": null,
            "padding": null,
            "grid_auto_rows": null,
            "grid_gap": null,
            "max_width": null,
            "order": null,
            "_view_module_version": "1.2.0",
            "grid_template_areas": null,
            "object_position": null,
            "object_fit": null,
            "grid_auto_columns": null,
            "margin": null,
            "display": null,
            "left": null
          }
        },
        "833e78aeac7e462eba1a644c2d1a33c7": {
          "model_module": "@jupyter-widgets/controls",
          "model_name": "DescriptionStyleModel",
          "state": {
            "_view_name": "StyleView",
            "_model_name": "DescriptionStyleModel",
            "description_width": "",
            "_view_module": "@jupyter-widgets/base",
            "_model_module_version": "1.5.0",
            "_view_count": null,
            "_view_module_version": "1.2.0",
            "_model_module": "@jupyter-widgets/controls"
          }
        },
        "084b75fb5014453cb1c60cd7e7a0d0b9": {
          "model_module": "@jupyter-widgets/base",
          "model_name": "LayoutModel",
          "state": {
            "_view_name": "LayoutView",
            "grid_template_rows": null,
            "right": null,
            "justify_content": null,
            "_view_module": "@jupyter-widgets/base",
            "overflow": null,
            "_model_module_version": "1.2.0",
            "_view_count": null,
            "flex_flow": null,
            "width": null,
            "min_width": null,
            "border": null,
            "align_items": null,
            "bottom": null,
            "_model_module": "@jupyter-widgets/base",
            "top": null,
            "grid_column": null,
            "overflow_y": null,
            "overflow_x": null,
            "grid_auto_flow": null,
            "grid_area": null,
            "grid_template_columns": null,
            "flex": null,
            "_model_name": "LayoutModel",
            "justify_items": null,
            "grid_row": null,
            "max_height": null,
            "align_content": null,
            "visibility": null,
            "align_self": null,
            "height": null,
            "min_height": null,
            "padding": null,
            "grid_auto_rows": null,
            "grid_gap": null,
            "max_width": null,
            "order": null,
            "_view_module_version": "1.2.0",
            "grid_template_areas": null,
            "object_position": null,
            "object_fit": null,
            "grid_auto_columns": null,
            "margin": null,
            "display": null,
            "left": null
          }
        }
      }
    }
  },
  "cells": [
    {
      "cell_type": "markdown",
      "metadata": {
        "id": "view-in-github",
        "colab_type": "text"
      },
      "source": [
        "<a href=\"https://colab.research.google.com/github/1Un/MNIST/blob/master/16x_cnn_mnist_lenet5.ipynb\" target=\"_parent\"><img src=\"https://colab.research.google.com/assets/colab-badge.svg\" alt=\"Open In Colab\"/></a>"
      ]
    },
    {
      "cell_type": "markdown",
      "metadata": {
        "colab_type": "text",
        "id": "cdjn6pICZMoM"
      },
      "source": [
        "![alt text](https://engmrk.com/wp-content/uploads/2018/09/LeNet_Original_Image.jpg)"
      ]
    },
    {
      "cell_type": "markdown",
      "metadata": {
        "colab_type": "text",
        "id": "14icu4JgZXqM"
      },
      "source": [
        "![alt text](https://engmrk.com/wp-content/uploads/2018/09/LeNEt_Summary_Table.jpg)"
      ]
    },
    {
      "cell_type": "code",
      "metadata": {
        "colab_type": "code",
        "id": "85_HkTjcNZeg",
        "colab": {}
      },
      "source": [
        "import torch\n",
        "import random\n",
        "import numpy as np\n",
        "\n",
        "# random.seed(0)\n",
        "# np.random.seed(0)\n",
        "# torch.manual_seed(0)\n",
        "# torch.cuda.manual_seed(0)\n",
        "# torch.backends.cudnn.deterministic = True"
      ],
      "execution_count": 0,
      "outputs": []
    },
    {
      "cell_type": "code",
      "metadata": {
        "colab_type": "code",
        "id": "kjPVw9UfNZel",
        "colab": {}
      },
      "source": [
        "import torchvision.datasets"
      ],
      "execution_count": 0,
      "outputs": []
    },
    {
      "cell_type": "code",
      "metadata": {
        "colab_type": "code",
        "id": "buWKcUqGNZeo",
        "colab": {
          "base_uri": "https://localhost:8080/",
          "height": 315,
          "referenced_widgets": [
            "ee43f07e07934570a17a18dce66b2290",
            "afcb433b634b41dbb40ee5384764bd84",
            "c5c68317c6754570b0ea5c5cfbbe61a8",
            "f9df1a67c90c432eae3d059a81f012c0",
            "3f1d7df228604702be8952ff4741ae46",
            "8737fc798e944057a9d6ddc5506f8d63",
            "fc5d25ec75df4f98a5180f15dd85a70c",
            "abb12884d7624bb483f68175980c0d57",
            "8f7febe197ec4c91b814f7739737bb39",
            "c938358eef9f49578e9e98d379065410",
            "fb22350647524001923ecb1205984dea",
            "a832729c92e849399618992e363b2da9",
            "11a2a856da2444389318c572398b1438",
            "ab36452477cb48e186a88ffc41639888",
            "c0c9ce679e8048dbbd00624b3518bcbc",
            "ccd7856d3f424cbd9fbea7ecda878fe3",
            "927eaced7d984aa39eddb9865ee03cc3",
            "d94462ad7eea465e926710d2a74ed9c7",
            "8343289b8fde476889f9340e72cc7a54",
            "cdea80b6c5b344299bd51758f05ec750",
            "8cb49ab98a8441fbb80aa31396e9bdc1",
            "b53faf45f74646d9a049e6692879bf2e",
            "60aa94262d2b46a5b3faaf71dfc5ece7",
            "ff4c78d305b14d45b0dfeed0c8884a98",
            "50dbbbc8936b41c596f9bcd6287cfa7c",
            "3fb4d586e5204e80b7db1967b9d166f9",
            "61de985089464efe98ed68831937c81d",
            "8400113b6d8e43af910d15fc6e0df18c",
            "e0cfd108093442eea33c645a9b25b61b",
            "e0c4fc5d7bcf46468128df066119755f",
            "833e78aeac7e462eba1a644c2d1a33c7",
            "084b75fb5014453cb1c60cd7e7a0d0b9"
          ]
        },
        "outputId": "671971fe-8e16-448f-87cb-7a066d0703ed"
      },
      "source": [
        "MNIST_train = torchvision.datasets.MNIST('./', download=True, train=True)\n",
        "MNIST_test = torchvision.datasets.MNIST('./', download=True, train=False)\n"
      ],
      "execution_count": 3,
      "outputs": [
        {
          "output_type": "stream",
          "text": [
            "Downloading http://yann.lecun.com/exdb/mnist/train-images-idx3-ubyte.gz to ./MNIST/raw/train-images-idx3-ubyte.gz\n"
          ],
          "name": "stdout"
        },
        {
          "output_type": "display_data",
          "data": {
            "application/vnd.jupyter.widget-view+json": {
              "model_id": "ee43f07e07934570a17a18dce66b2290",
              "version_minor": 0,
              "version_major": 2
            },
            "text/plain": [
              "HBox(children=(IntProgress(value=1, bar_style='info', max=1), HTML(value='')))"
            ]
          },
          "metadata": {
            "tags": []
          }
        },
        {
          "output_type": "stream",
          "text": [
            "Extracting ./MNIST/raw/train-images-idx3-ubyte.gz to ./MNIST/raw\n",
            "Downloading http://yann.lecun.com/exdb/mnist/train-labels-idx1-ubyte.gz to ./MNIST/raw/train-labels-idx1-ubyte.gz\n"
          ],
          "name": "stdout"
        },
        {
          "output_type": "display_data",
          "data": {
            "application/vnd.jupyter.widget-view+json": {
              "model_id": "8f7febe197ec4c91b814f7739737bb39",
              "version_minor": 0,
              "version_major": 2
            },
            "text/plain": [
              "HBox(children=(IntProgress(value=1, bar_style='info', max=1), HTML(value='')))"
            ]
          },
          "metadata": {
            "tags": []
          }
        },
        {
          "output_type": "stream",
          "text": [
            "Extracting ./MNIST/raw/train-labels-idx1-ubyte.gz to ./MNIST/raw\n",
            "Downloading http://yann.lecun.com/exdb/mnist/t10k-images-idx3-ubyte.gz to ./MNIST/raw/t10k-images-idx3-ubyte.gz\n"
          ],
          "name": "stdout"
        },
        {
          "output_type": "display_data",
          "data": {
            "application/vnd.jupyter.widget-view+json": {
              "model_id": "927eaced7d984aa39eddb9865ee03cc3",
              "version_minor": 0,
              "version_major": 2
            },
            "text/plain": [
              "HBox(children=(IntProgress(value=1, bar_style='info', max=1), HTML(value='')))"
            ]
          },
          "metadata": {
            "tags": []
          }
        },
        {
          "output_type": "stream",
          "text": [
            "Extracting ./MNIST/raw/t10k-images-idx3-ubyte.gz to ./MNIST/raw\n",
            "Downloading http://yann.lecun.com/exdb/mnist/t10k-labels-idx1-ubyte.gz to ./MNIST/raw/t10k-labels-idx1-ubyte.gz\n"
          ],
          "name": "stdout"
        },
        {
          "output_type": "display_data",
          "data": {
            "application/vnd.jupyter.widget-view+json": {
              "model_id": "50dbbbc8936b41c596f9bcd6287cfa7c",
              "version_minor": 0,
              "version_major": 2
            },
            "text/plain": [
              "HBox(children=(IntProgress(value=1, bar_style='info', max=1), HTML(value='')))"
            ]
          },
          "metadata": {
            "tags": []
          }
        },
        {
          "output_type": "stream",
          "text": [
            "Extracting ./MNIST/raw/t10k-labels-idx1-ubyte.gz to ./MNIST/raw\n",
            "Processing...\n",
            "Done!\n"
          ],
          "name": "stdout"
        }
      ]
    },
    {
      "cell_type": "code",
      "metadata": {
        "colab_type": "code",
        "id": "nyrpGOtPNZeq",
        "outputId": "feb15636-9d5f-47a2-ef76-881306d17476",
        "colab": {
          "base_uri": "https://localhost:8080/",
          "height": 173
        }
      },
      "source": [
        "X_train = MNIST_train.train_data\n",
        "y_train = MNIST_train.train_labels\n",
        "X_test = MNIST_test.test_data\n",
        "y_test = MNIST_test.test_labels"
      ],
      "execution_count": 4,
      "outputs": [
        {
          "output_type": "stream",
          "text": [
            "/usr/local/lib/python3.6/dist-packages/torchvision/datasets/mnist.py:55: UserWarning: train_data has been renamed data\n",
            "  warnings.warn(\"train_data has been renamed data\")\n",
            "/usr/local/lib/python3.6/dist-packages/torchvision/datasets/mnist.py:45: UserWarning: train_labels has been renamed targets\n",
            "  warnings.warn(\"train_labels has been renamed targets\")\n",
            "/usr/local/lib/python3.6/dist-packages/torchvision/datasets/mnist.py:60: UserWarning: test_data has been renamed data\n",
            "  warnings.warn(\"test_data has been renamed data\")\n",
            "/usr/local/lib/python3.6/dist-packages/torchvision/datasets/mnist.py:50: UserWarning: test_labels has been renamed targets\n",
            "  warnings.warn(\"test_labels has been renamed targets\")\n"
          ],
          "name": "stderr"
        }
      ]
    },
    {
      "cell_type": "code",
      "metadata": {
        "colab_type": "code",
        "id": "f_TmOTWdNZet",
        "outputId": "55b85964-cbf1-486b-c90e-e1027796c6a4",
        "colab": {
          "base_uri": "https://localhost:8080/",
          "height": 34
        }
      },
      "source": [
        "len(y_train), len(y_test)"
      ],
      "execution_count": 5,
      "outputs": [
        {
          "output_type": "execute_result",
          "data": {
            "text/plain": [
              "(60000, 10000)"
            ]
          },
          "metadata": {
            "tags": []
          },
          "execution_count": 5
        }
      ]
    },
    {
      "cell_type": "code",
      "metadata": {
        "colab_type": "code",
        "id": "Zd-E4vIpNZe1",
        "outputId": "82779f62-fd65-4384-c0c7-b1e2a36b242b",
        "colab": {
          "base_uri": "https://localhost:8080/",
          "height": 282
        }
      },
      "source": [
        "import matplotlib.pyplot as plt\n",
        "plt.imshow(X_train[0, :, :])\n",
        "plt.show()\n",
        "print(y_train[0])"
      ],
      "execution_count": 6,
      "outputs": [
        {
          "output_type": "display_data",
          "data": {
            "image/png": "[encoded data removed]",
            "text/plain": [
              "<Figure size 432x288 with 1 Axes>"
            ]
          },
          "metadata": {
            "tags": [],
            "needs_background": "light"
          }
        },
        {
          "output_type": "stream",
          "text": [
            "tensor(5)\n"
          ],
          "name": "stdout"
        }
      ]
    },
    {
      "cell_type": "code",
      "metadata": {
        "id": "s3wxWljU8fJf",
        "colab_type": "code",
        "outputId": "a4cf3388-2640-4db3-a156-ee93f35aaf36",
        "colab": {
          "base_uri": "https://localhost:8080/",
          "height": 34
        }
      },
      "source": [
        "X_train.shape\n"
      ],
      "execution_count": 7,
      "outputs": [
        {
          "output_type": "execute_result",
          "data": {
            "text/plain": [
              "torch.Size([60000, 28, 28])"
            ]
          },
          "metadata": {
            "tags": []
          },
          "execution_count": 7
        }
      ]
    },
    {
      "cell_type": "code",
      "metadata": {
        "colab_type": "code",
        "id": "Tf9LiDGuNZe6",
        "colab": {}
      },
      "source": [
        "X_train = X_train.unsqueeze(1).float()\n",
        "X_test = X_test.unsqueeze(1).float()"
      ],
      "execution_count": 0,
      "outputs": []
    },
    {
      "cell_type": "code",
      "metadata": {
        "colab_type": "code",
        "id": "kxKAhEYHNZe-",
        "outputId": "3c22fafc-20af-4400-966e-eaec71401d42",
        "colab": {
          "base_uri": "https://localhost:8080/",
          "height": 34
        }
      },
      "source": [
        "X_train.shape\n",
        "# отличие от полносвязанной сети, которая видела картинку как один вектор длинный,\n",
        "# мы хотим в конволюционную сеть передавать картинку как трёхмерный тензор.\n",
        "# Первый канал -- это глубина картинки, в черно-белой картинке это 1\n",
        "# канал с яркостью серого пикселя. А в RGB картинке будут RGB каналы.\n",
        "# Соответственно, мы должны нашу картинку, которая на вход пришла (она просто \"28 на 28\"),\n",
        "# разжать до \"1 на 28 на 28\". Вот мы это и делаем -- мы делаем X_train.unsqueeze,\n",
        "# а здесь ставим индекс: \"а в каком же измерении мы хотим разжать\".\n",
        "# То есть X_train у нас -- тензор из 60 000 картинок 28 на 28,\n",
        "# а мы хотим чтобы было 60 000 на 1 на 28 на 28, и то же самое мы делаем с тестом."
      ],
      "execution_count": 9,
      "outputs": [
        {
          "output_type": "execute_result",
          "data": {
            "text/plain": [
              "torch.Size([60000, 1, 28, 28])"
            ]
          },
          "metadata": {
            "tags": []
          },
          "execution_count": 9
        }
      ]
    },
    {
      "cell_type": "code",
      "metadata": {
        "colab_type": "code",
        "id": "xhsw9soDODel",
        "colab": {}
      },
      "source": [
        "class LeNet5(torch.nn.Module):\n",
        "    def __init__(self):\n",
        "        super(LeNet5, self).__init__()\n",
        "        #conv 2d называется так как матрица у нас двумерная  \n",
        "        self.conv1 = torch.nn.Conv2d(\n",
        "            in_channels=1, out_channels=6, kernel_size=5, padding=2)\n",
        "        self.act1  = torch.nn.Tanh()\n",
        "        self.pool1 = torch.nn.AvgPool2d(kernel_size=2, stride=2)\n",
        "       \n",
        "        self.conv2 = torch.nn.Conv2d(\n",
        "            in_channels=6, out_channels=16, kernel_size=5, padding=0)\n",
        "        self.act2  = torch.nn.Tanh()\n",
        "        self.pool2 = torch.nn.AvgPool2d(kernel_size=2, stride=2)\n",
        "        \n",
        "        #изображение в 1 вектор растянем в forward а пока в конструкторе прдеставим что это уже сделано\n",
        "        self.fc1   = torch.nn.Linear(5 * 5 * 16, 120)\n",
        "        self.act3  = torch.nn.Tanh()\n",
        "        \n",
        "        self.fc2   = torch.nn.Linear(120, 84)\n",
        "        self.act4  = torch.nn.Tanh()\n",
        "        \n",
        "        self.fc3   = torch.nn.Linear(84, 10)\n",
        "    \n",
        "    #x - входной тензор, т.е. батч из картинок \n",
        "    def forward(self, x):\n",
        "        \n",
        "        x = self.conv1(x)\n",
        "        x = self.act1(x)\n",
        "        x = self.pool1(x)\n",
        "        \n",
        "        x = self.conv2(x)\n",
        "        x = self.act2(x)\n",
        "        x = self.pool2(x)\n",
        "        \n",
        "        #преобразуем наш тенхор к нужной размерности x.size(0) - размер батча \n",
        "        #а дальше тензор одномерный очевидно что бы получить этот размер надо\n",
        "        #просто перемножить 3 размерности\n",
        "        x = x.view(x.size(0), x.size(1) * x.size(2) * x.size(3))\n",
        "\n",
        "        x = self.fc1(x)\n",
        "        x = self.act3(x)\n",
        "        x = self.fc2(x)\n",
        "        x = self.act4(x)\n",
        "        x = self.fc3(x)\n",
        "        \n",
        "        return x\n",
        "    \n"
      ],
      "execution_count": 0,
      "outputs": []
    },
    {
      "cell_type": "code",
      "metadata": {
        "colab_type": "code",
        "id": "XfA9gqSdNZfQ",
        "outputId": "9cb70869-3544-4ae8-e904-bf83ddff628e",
        "colab": {
          "base_uri": "https://localhost:8080/",
          "height": 442
        }
      },
      "source": [
        "# def sum_par(model):\n",
        "#   s=0\n",
        "#   for i in model.parameters():\n",
        "#     #print(i)\n",
        "#     print(len(i.reshape(-1)))\n",
        "#     s+=len(i.reshape(-1))\n",
        "#   return s\n",
        "# print('sum=',sum_par(lenet5))\n",
        "lenet5= LeNet5()\n",
        "import torchsummary\n",
        "print(\"Все параметры сети:\")\n",
        "torchsummary.summary(lenet5.cuda(),(1,28,28))\n",
        "#(1,28,28) - размер входного изображения \n",
        "def study(lenet5,X_test,y_test,X_train,y_train,batch_size = 100):  \n",
        "  #!nvidia-smi\n",
        "  device = torch.device('cuda:0' if torch.cuda.is_available() else 'cpu')\n",
        "  lenet5 = lenet5.to(device)\n",
        "  loss = torch.nn.CrossEntropyLoss()\n",
        "  optimizer = torch.optim.Adam(lenet5.parameters(), lr=1.0e-3)\n",
        "  \n",
        "\n",
        "  test_accuracy_history = []\n",
        "  test_loss_history = []\n",
        "\n",
        "  X_test = X_test.to(device)\n",
        "  y_test = y_test.to(device)\n",
        "\n",
        "  for epoch in range(100):\n",
        "      order = np.random.permutation(len(X_train))\n",
        "      for start_index in range(0, len(X_train), batch_size):\n",
        "          optimizer.zero_grad()\n",
        "          \n",
        "          batch_indexes = order[start_index:start_index+batch_size]\n",
        "          \n",
        "          X_batch = X_train[batch_indexes].to(device)\n",
        "          y_batch = y_train[batch_indexes].to(device)\n",
        "          \n",
        "          preds = lenet5.forward(X_batch) \n",
        "          \n",
        "          loss_value = loss(preds, y_batch)\n",
        "          loss_value.backward()\n",
        "          \n",
        "          optimizer.step()\n",
        "          \n",
        "      test_preds = lenet5.forward(X_test)\n",
        "      test_loss_history.append(loss(test_preds, y_test).data.cpu())\n",
        "\n",
        "      accuracy = (test_preds.argmax(dim=1) == y_test).float().mean().data.cpu()\n",
        "      test_accuracy_history.append(accuracy)\n",
        "\n",
        "      if epoch%10==0:\n",
        "        print('epoch=',epoch,'\\taccuracy=',accuracy)\n",
        "  return test_loss_history,test_accuracy_history\n",
        "      "
      ],
      "execution_count": 11,
      "outputs": [
        {
          "output_type": "stream",
          "text": [
            "Все параметры сети:\n",
            "----------------------------------------------------------------\n",
            "        Layer (type)               Output Shape         Param #\n",
            "================================================================\n",
            "            Conv2d-1            [-1, 6, 28, 28]             156\n",
            "              Tanh-2            [-1, 6, 28, 28]               0\n",
            "         AvgPool2d-3            [-1, 6, 14, 14]               0\n",
            "            Conv2d-4           [-1, 16, 10, 10]           2,416\n",
            "              Tanh-5           [-1, 16, 10, 10]               0\n",
            "         AvgPool2d-6             [-1, 16, 5, 5]               0\n",
            "            Linear-7                  [-1, 120]          48,120\n",
            "              Tanh-8                  [-1, 120]               0\n",
            "            Linear-9                   [-1, 84]          10,164\n",
            "             Tanh-10                   [-1, 84]               0\n",
            "           Linear-11                   [-1, 10]             850\n",
            "================================================================\n",
            "Total params: 61,706\n",
            "Trainable params: 61,706\n",
            "Non-trainable params: 0\n",
            "----------------------------------------------------------------\n",
            "Input size (MB): 0.00\n",
            "Forward/backward pass size (MB): 0.11\n",
            "Params size (MB): 0.24\n",
            "Estimated Total Size (MB): 0.35\n",
            "----------------------------------------------------------------\n"
          ],
          "name": "stdout"
        }
      ]
    },
    {
      "cell_type": "code",
      "metadata": {
        "id": "KBTuuwFarSe5",
        "colab_type": "code",
        "outputId": "9a6ef6fd-cde7-45ff-f6f5-92b02703481c",
        "colab": {
          "base_uri": "https://localhost:8080/",
          "height": 289
        }
      },
      "source": [
        "test_loss_history=[]\n",
        "test_accuracy_history=[]\n",
        "!nvidia-smi"
      ],
      "execution_count": 12,
      "outputs": [
        {
          "output_type": "stream",
          "text": [
            "Sat Apr 25 20:20:51 2020       \n",
            "+-----------------------------------------------------------------------------+\n",
            "| NVIDIA-SMI 440.64.00    Driver Version: 418.67       CUDA Version: 10.1     |\n",
            "|-------------------------------+----------------------+----------------------+\n",
            "| GPU  Name        Persistence-M| Bus-Id        Disp.A | Volatile Uncorr. ECC |\n",
            "| Fan  Temp  Perf  Pwr:Usage/Cap|         Memory-Usage | GPU-Util  Compute M. |\n",
            "|===============================+======================+======================|\n",
            "|   0  Tesla T4            Off  | 00000000:00:04.0 Off |                    0 |\n",
            "| N/A   51C    P0    27W /  70W |    805MiB / 15079MiB |      0%      Default |\n",
            "+-------------------------------+----------------------+----------------------+\n",
            "                                                                               \n",
            "+-----------------------------------------------------------------------------+\n",
            "| Processes:                                                       GPU Memory |\n",
            "|  GPU       PID   Type   Process name                             Usage      |\n",
            "|=============================================================================|\n",
            "+-----------------------------------------------------------------------------+\n"
          ],
          "name": "stdout"
        }
      ]
    },
    {
      "cell_type": "code",
      "metadata": {
        "id": "EOPJWXnfU1zL",
        "colab_type": "code",
        "outputId": "1dad70c5-8e6b-4098-a738-8655c7c88593",
        "colab": {
          "base_uri": "https://localhost:8080/",
          "height": 1000
        }
      },
      "source": [
        "for i in range(16):\n",
        "  print('=====',i,'=====')\n",
        "  test_loss_history1,test_accuracy_history1=study(lenet5,X_test,y_test,X_train,y_train,batch_size = 100)\n",
        "  test_loss_history.append(test_loss_history1)\n",
        "  test_accuracy_history.append(test_accuracy_history1)"
      ],
      "execution_count": 13,
      "outputs": [
        {
          "output_type": "stream",
          "text": [
            "===== 0 =====\n",
            "epoch= 0 \taccuracy= tensor(0.9782)\n",
            "epoch= 10 \taccuracy= tensor(0.9869)\n",
            "epoch= 20 \taccuracy= tensor(0.9867)\n",
            "epoch= 30 \taccuracy= tensor(0.9879)\n",
            "epoch= 40 \taccuracy= tensor(0.9890)\n",
            "epoch= 50 \taccuracy= tensor(0.9876)\n",
            "epoch= 60 \taccuracy= tensor(0.9876)\n",
            "epoch= 70 \taccuracy= tensor(0.9894)\n",
            "epoch= 80 \taccuracy= tensor(0.9900)\n",
            "epoch= 90 \taccuracy= tensor(0.9902)\n",
            "===== 1 =====\n",
            "epoch= 0 \taccuracy= tensor(0.9886)\n",
            "epoch= 10 \taccuracy= tensor(0.9873)\n",
            "epoch= 20 \taccuracy= tensor(0.9878)\n",
            "epoch= 30 \taccuracy= tensor(0.9884)\n",
            "epoch= 40 \taccuracy= tensor(0.9888)\n",
            "epoch= 50 \taccuracy= tensor(0.9875)\n",
            "epoch= 60 \taccuracy= tensor(0.9856)\n",
            "epoch= 70 \taccuracy= tensor(0.9868)\n",
            "epoch= 80 \taccuracy= tensor(0.9890)\n",
            "epoch= 90 \taccuracy= tensor(0.9898)\n",
            "===== 2 =====\n",
            "epoch= 0 \taccuracy= tensor(0.9873)\n",
            "epoch= 10 \taccuracy= tensor(0.9897)\n",
            "epoch= 20 \taccuracy= tensor(0.9879)\n",
            "epoch= 30 \taccuracy= tensor(0.9891)\n",
            "epoch= 40 \taccuracy= tensor(0.9873)\n",
            "epoch= 50 \taccuracy= tensor(0.9895)\n",
            "epoch= 60 \taccuracy= tensor(0.9876)\n",
            "epoch= 70 \taccuracy= tensor(0.9887)\n",
            "epoch= 80 \taccuracy= tensor(0.9897)\n",
            "epoch= 90 \taccuracy= tensor(0.9885)\n",
            "===== 3 =====\n",
            "epoch= 0 \taccuracy= tensor(0.9883)\n",
            "epoch= 10 \taccuracy= tensor(0.9898)\n",
            "epoch= 20 \taccuracy= tensor(0.9876)\n",
            "epoch= 30 \taccuracy= tensor(0.9893)\n",
            "epoch= 40 \taccuracy= tensor(0.9891)\n",
            "epoch= 50 \taccuracy= tensor(0.9897)\n",
            "epoch= 60 \taccuracy= tensor(0.9892)\n",
            "epoch= 70 \taccuracy= tensor(0.9880)\n",
            "epoch= 80 \taccuracy= tensor(0.9884)\n",
            "epoch= 90 \taccuracy= tensor(0.9887)\n",
            "===== 4 =====\n",
            "epoch= 0 \taccuracy= tensor(0.9880)\n",
            "epoch= 10 \taccuracy= tensor(0.9886)\n",
            "epoch= 20 \taccuracy= tensor(0.9886)\n",
            "epoch= 30 \taccuracy= tensor(0.9889)\n",
            "epoch= 40 \taccuracy= tensor(0.9866)\n",
            "epoch= 50 \taccuracy= tensor(0.9889)\n",
            "epoch= 60 \taccuracy= tensor(0.9895)\n",
            "epoch= 70 \taccuracy= tensor(0.9885)\n",
            "epoch= 80 \taccuracy= tensor(0.9883)\n",
            "epoch= 90 \taccuracy= tensor(0.9892)\n",
            "===== 5 =====\n",
            "epoch= 0 \taccuracy= tensor(0.9882)\n",
            "epoch= 10 \taccuracy= tensor(0.9873)\n",
            "epoch= 20 \taccuracy= tensor(0.9874)\n",
            "epoch= 30 \taccuracy= tensor(0.9875)\n",
            "epoch= 40 \taccuracy= tensor(0.9873)\n",
            "epoch= 50 \taccuracy= tensor(0.9878)\n",
            "epoch= 60 \taccuracy= tensor(0.9868)\n",
            "epoch= 70 \taccuracy= tensor(0.9878)\n",
            "epoch= 80 \taccuracy= tensor(0.9897)\n",
            "epoch= 90 \taccuracy= tensor(0.9877)\n",
            "===== 6 =====\n",
            "epoch= 0 \taccuracy= tensor(0.9881)\n",
            "epoch= 10 \taccuracy= tensor(0.9871)\n",
            "epoch= 20 \taccuracy= tensor(0.9887)\n",
            "epoch= 30 \taccuracy= tensor(0.9888)\n",
            "epoch= 40 \taccuracy= tensor(0.9891)\n",
            "epoch= 50 \taccuracy= tensor(0.9892)\n",
            "epoch= 60 \taccuracy= tensor(0.9887)\n",
            "epoch= 70 \taccuracy= tensor(0.9880)\n",
            "epoch= 80 \taccuracy= tensor(0.9884)\n",
            "epoch= 90 \taccuracy= tensor(0.9877)\n",
            "===== 7 =====\n",
            "epoch= 0 \taccuracy= tensor(0.9888)\n",
            "epoch= 10 \taccuracy= tensor(0.9900)\n",
            "epoch= 20 \taccuracy= tensor(0.9880)\n",
            "epoch= 30 \taccuracy= tensor(0.9889)\n",
            "epoch= 40 \taccuracy= tensor(0.9892)\n",
            "epoch= 50 \taccuracy= tensor(0.9877)\n",
            "epoch= 60 \taccuracy= tensor(0.9880)\n",
            "epoch= 70 \taccuracy= tensor(0.9893)\n",
            "epoch= 80 \taccuracy= tensor(0.9871)\n",
            "epoch= 90 \taccuracy= tensor(0.9875)\n",
            "===== 8 =====\n",
            "epoch= 0 \taccuracy= tensor(0.9885)\n",
            "epoch= 10 \taccuracy= tensor(0.9886)\n",
            "epoch= 20 \taccuracy= tensor(0.9891)\n",
            "epoch= 30 \taccuracy= tensor(0.9888)\n",
            "epoch= 40 \taccuracy= tensor(0.9888)\n",
            "epoch= 50 \taccuracy= tensor(0.9887)\n",
            "epoch= 60 \taccuracy= tensor(0.9895)\n",
            "epoch= 70 \taccuracy= tensor(0.9886)\n",
            "epoch= 80 \taccuracy= tensor(0.9884)\n",
            "epoch= 90 \taccuracy= tensor(0.9890)\n",
            "===== 9 =====\n",
            "epoch= 0 \taccuracy= tensor(0.9891)\n",
            "epoch= 10 \taccuracy= tensor(0.9897)\n",
            "epoch= 20 \taccuracy= tensor(0.9890)\n",
            "epoch= 30 \taccuracy= tensor(0.9900)\n",
            "epoch= 40 \taccuracy= tensor(0.9884)\n",
            "epoch= 50 \taccuracy= tensor(0.9899)\n",
            "epoch= 60 \taccuracy= tensor(0.9892)\n",
            "epoch= 70 \taccuracy= tensor(0.9885)\n",
            "epoch= 80 \taccuracy= tensor(0.9881)\n",
            "epoch= 90 \taccuracy= tensor(0.9890)\n",
            "===== 10 =====\n",
            "epoch= 0 \taccuracy= tensor(0.9904)\n",
            "epoch= 10 \taccuracy= tensor(0.9891)\n",
            "epoch= 20 \taccuracy= tensor(0.9884)\n",
            "epoch= 30 \taccuracy= tensor(0.9888)\n",
            "epoch= 40 \taccuracy= tensor(0.9882)\n",
            "epoch= 50 \taccuracy= tensor(0.9890)\n",
            "epoch= 60 \taccuracy= tensor(0.9888)\n",
            "epoch= 70 \taccuracy= tensor(0.9877)\n",
            "epoch= 80 \taccuracy= tensor(0.9879)\n",
            "epoch= 90 \taccuracy= tensor(0.9884)\n",
            "===== 11 =====\n",
            "epoch= 0 \taccuracy= tensor(0.9873)\n",
            "epoch= 10 \taccuracy= tensor(0.9893)\n",
            "epoch= 20 \taccuracy= tensor(0.9882)\n",
            "epoch= 30 \taccuracy= tensor(0.9886)\n",
            "epoch= 40 \taccuracy= tensor(0.9875)\n",
            "epoch= 50 \taccuracy= tensor(0.9886)\n",
            "epoch= 60 \taccuracy= tensor(0.9886)\n",
            "epoch= 70 \taccuracy= tensor(0.9887)\n",
            "epoch= 80 \taccuracy= tensor(0.9885)\n",
            "epoch= 90 \taccuracy= tensor(0.9888)\n",
            "===== 12 =====\n",
            "epoch= 0 \taccuracy= tensor(0.9894)\n",
            "epoch= 10 \taccuracy= tensor(0.9881)\n",
            "epoch= 20 \taccuracy= tensor(0.9888)\n",
            "epoch= 30 \taccuracy= tensor(0.9876)\n",
            "epoch= 40 \taccuracy= tensor(0.9879)\n",
            "epoch= 50 \taccuracy= tensor(0.9883)\n",
            "epoch= 60 \taccuracy= tensor(0.9881)\n",
            "epoch= 70 \taccuracy= tensor(0.9883)\n",
            "epoch= 80 \taccuracy= tensor(0.9879)\n",
            "epoch= 90 \taccuracy= tensor(0.9885)\n",
            "===== 13 =====\n",
            "epoch= 0 \taccuracy= tensor(0.9887)\n",
            "epoch= 10 \taccuracy= tensor(0.9901)\n",
            "epoch= 20 \taccuracy= tensor(0.9902)\n",
            "epoch= 30 \taccuracy= tensor(0.9864)\n",
            "epoch= 40 \taccuracy= tensor(0.9885)\n",
            "epoch= 50 \taccuracy= tensor(0.9895)\n",
            "epoch= 60 \taccuracy= tensor(0.9877)\n",
            "epoch= 70 \taccuracy= tensor(0.9888)\n",
            "epoch= 80 \taccuracy= tensor(0.9886)\n",
            "epoch= 90 \taccuracy= tensor(0.9888)\n",
            "===== 14 =====\n",
            "epoch= 0 \taccuracy= tensor(0.9890)\n",
            "epoch= 10 \taccuracy= tensor(0.9881)\n",
            "epoch= 20 \taccuracy= tensor(0.9897)\n",
            "epoch= 30 \taccuracy= tensor(0.9890)\n",
            "epoch= 40 \taccuracy= tensor(0.9891)\n",
            "epoch= 50 \taccuracy= tensor(0.9889)\n",
            "epoch= 60 \taccuracy= tensor(0.9885)\n",
            "epoch= 70 \taccuracy= tensor(0.9885)\n",
            "epoch= 80 \taccuracy= tensor(0.9885)\n",
            "epoch= 90 \taccuracy= tensor(0.9895)\n",
            "===== 15 =====\n",
            "epoch= 0 \taccuracy= tensor(0.9885)\n",
            "epoch= 10 \taccuracy= tensor(0.9892)\n",
            "epoch= 20 \taccuracy= tensor(0.9884)\n",
            "epoch= 30 \taccuracy= tensor(0.9885)\n",
            "epoch= 40 \taccuracy= tensor(0.9872)\n",
            "epoch= 50 \taccuracy= tensor(0.9880)\n",
            "epoch= 60 \taccuracy= tensor(0.9870)\n",
            "epoch= 70 \taccuracy= tensor(0.9871)\n",
            "epoch= 80 \taccuracy= tensor(0.9871)\n",
            "epoch= 90 \taccuracy= tensor(0.9881)\n"
          ],
          "name": "stdout"
        }
      ]
    },
    {
      "cell_type": "code",
      "metadata": {
        "id": "Cqf78pevaL-f",
        "colab_type": "code",
        "colab": {}
      },
      "source": [
        "import pandas as pd\n",
        "import numpy as np"
      ],
      "execution_count": 0,
      "outputs": []
    },
    {
      "cell_type": "code",
      "metadata": {
        "id": "EL85CehGqtaM",
        "colab_type": "code",
        "colab": {}
      },
      "source": [
        "test_loss_history_np=np.array(test_loss_history)\n",
        "test_accuracy_history_np=np.array(test_accuracy_history)"
      ],
      "execution_count": 0,
      "outputs": []
    },
    {
      "cell_type": "code",
      "metadata": {
        "id": "rUSym-146yLA",
        "colab_type": "code",
        "outputId": "7a959615-8e31-442d-e1ad-985ce4ffb6b3",
        "colab": {
          "base_uri": "https://localhost:8080/",
          "height": 68
        }
      },
      "source": [
        "#показание лосс функции на последней эпохе\n",
        "x=np.copy(test_loss_history_np)\n",
        "y=np.copy(test_accuracy_history_np)\n",
        "print(test_loss_history_np[:,-1])"
      ],
      "execution_count": 18,
      "outputs": [
        {
          "output_type": "stream",
          "text": [
            "[0.07380131 0.07097014 0.05927046 0.09077706 0.08714703 0.09196741\n",
            " 0.09015215 0.09289087 0.08844602 0.075818   0.09212382 0.08947682\n",
            " 0.08598679 0.0889051  0.09172964 0.1048371 ]\n"
          ],
          "name": "stdout"
        }
      ]
    },
    {
      "cell_type": "code",
      "metadata": {
        "id": "fmyvMoZ-7hBz",
        "colab_type": "code",
        "outputId": "c4e259d1-e747-475e-d1ee-23874bbefaf5",
        "colab": {
          "base_uri": "https://localhost:8080/",
          "height": 68
        }
      },
      "source": [
        "#точность предсказания на последней эпохе \n",
        "print(test_accuracy_history_np[:,-1])   "
      ],
      "execution_count": 19,
      "outputs": [
        {
          "output_type": "stream",
          "text": [
            "[0.9899     0.988      0.99009997 0.9888     0.98749995 0.98789996\n",
            " 0.98829997 0.9877     0.988      0.98929995 0.98859996 0.98969996\n",
            " 0.9881     0.9891     0.98939997 0.98679996]\n"
          ],
          "name": "stdout"
        }
      ]
    },
    {
      "cell_type": "code",
      "metadata": {
        "id": "kf68gDfe7lG7",
        "colab_type": "code",
        "outputId": "0ce269bc-4198-4101-e6db-647966c19c89",
        "colab": {
          "base_uri": "https://localhost:8080/",
          "height": 473
        }
      },
      "source": [
        "\n",
        "fig, ax = plt.subplots(figsize=(12,6))\n",
        "ax.set_xlim([0, 15])\n",
        "\n",
        "ax.plot(np.array(range(len(test_accuracy_history_np[:,-1]))),test_accuracy_history_np[:,-1])  \n",
        "\n",
        "\n",
        "ax.set_xlabel('Номер обучения')\n",
        "\n",
        "ax.set_ylabel('Точность  предсказания сети')\n",
        "\n",
        "plt.savefig('2.svg')\n",
        "print('максимальная точность на последнй эпохе обучения ',test_accuracy_history_np[:,-1].max(),\n",
        "      '\\nэтот результат получили на попытке обучения №',test_accuracy_history_np[:,-1].argmax())  \n",
        "print('минимальная точность  на последнй эпохе обучения',test_accuracy_history_np[:,-1].min(),\n",
        "      '\\nэтот результат получили на попытке обучения №',test_accuracy_history_np[:,-1].argmin())\n",
        "print('Разность=',test_accuracy_history_np[:,-1].max()-test_accuracy_history_np[:,-1].min(),sep='')"
      ],
      "execution_count": 45,
      "outputs": [
        {
          "output_type": "stream",
          "text": [
            "максимальная точность на последнй эпохе обучения  0.99009997 \n",
            "этот результат получили на попытке обучения № 2\n",
            "минимальная точность  на последнй эпохе обучения 0.98679996 \n",
            "этот результат получили на попытке обучения № 15\n",
            "Разность=0.0033000112\n"
          ],
          "name": "stdout"
        },
        {
          "output_type": "display_data",
          "data": {
            "image/png": "[encoded data removed]",
            "text/plain": [
              "<Figure size 864x432 with 1 Axes>"
            ]
          },
          "metadata": {
            "tags": [],
            "needs_background": "light"
          }
        }
      ]
    },
    {
      "cell_type": "code",
      "metadata": {
        "id": "lDIJCgga8jww",
        "colab_type": "code",
        "outputId": "bacef1b2-f73c-430e-8459-3aa16a8c6936",
        "colab": {
          "base_uri": "https://localhost:8080/",
          "height": 473
        }
      },
      "source": [
        "\n",
        "fig, ax = plt.subplots(figsize=(12,6))\n",
        "ax.set_xlim([0, 15])\n",
        "\n",
        "ax.plot(np.array(range(len(test_loss_history_np[:,-1]))),test_loss_history_np[:,-1])  \n",
        "\n",
        "\n",
        "ax.set_xlabel('Номер обучения')\n",
        "\n",
        "ax.set_ylabel('Значение функции потерь')\n",
        "\n",
        "plt.savefig('3.png')\n",
        "plt.show()\n",
        "print('максимальное значение функции потерь на последней эпохе обучения ',test_loss_history_np[:,-1].max(),\n",
        "      '\\nэтот результат получили на попытке обучения №',test_loss_history_np[:,-1].argmax())  \n",
        "print('минимальная точность  на последнй эпохе обучения',test_loss_history_np[:,-1].min(),\n",
        "      '\\nэтот результат получили на попытке обучения №',test_loss_history_np[:,-1].argmin())\n",
        "\n",
        "print('Разность=',test_loss_history_np[:,-1].max()-test_loss_history_np[:,-1].min(),sep='')"
      ],
      "execution_count": 46,
      "outputs": [
        {
          "output_type": "display_data",
          "data": {
            "image/png": "[encoded data removed]",
            "text/plain": [
              "<Figure size 864x432 with 1 Axes>"
            ]
          },
          "metadata": {
            "tags": [],
            "needs_background": "light"
          }
        },
        {
          "output_type": "stream",
          "text": [
            "максимальное значение функции потерь на последней эпохе обучения  0.1048371 \n",
            "этот результат получили на попытке обучения № 15\n",
            "минимальная точность  на последнй эпохе обучения 0.05927046 \n",
            "этот результат получили на попытке обучения № 2\n",
            "Разность=0.045566637\n"
          ],
          "name": "stdout"
        }
      ]
    },
    {
      "cell_type": "code",
      "metadata": {
        "id": "3A7Vrop0Cpu-",
        "colab_type": "code",
        "outputId": "47442af4-3a8a-4656-f18f-51afcbb2b712",
        "colab": {
          "base_uri": "https://localhost:8080/",
          "height": 368
        }
      },
      "source": [
        "#вывдем графики точности с максимальной и минимальной тосность(accuracy) предсказания\n",
        "plt.figure(figsize=(10,5))\n",
        "plt.plot(test_accuracy_history_np[1],'r',test_accuracy_history_np[14],'g')  \n",
        "plt.xlabel('номер обучения')\n",
        "plt.ylabel('точность обучения')\n",
        "plt.show()\n",
        "print('Красная линия - максимальная точность\\nЗеленая линия - минимальная точность')"
      ],
      "execution_count": 47,
      "outputs": [
        {
          "output_type": "display_data",
          "data": {
            "image/png": "[encoded data removed]",
            "text/plain": [
              "<Figure size 720x360 with 1 Axes>"
            ]
          },
          "metadata": {
            "tags": [],
            "needs_background": "light"
          }
        },
        {
          "output_type": "stream",
          "text": [
            "Красная линия - максимальная точность\n",
            "Зеленая линия - минимальная точность\n"
          ],
          "name": "stdout"
        }
      ]
    },
    {
      "cell_type": "code",
      "metadata": {
        "id": "Kx1OdUA8JY7N",
        "colab_type": "code",
        "outputId": "c87314e6-b053-491c-9044-ffdc8623910f",
        "colab": {
          "base_uri": "https://localhost:8080/",
          "height": 368
        }
      },
      "source": [
        "plt.figure(figsize=(10,5))\n",
        "plt.plot(test_loss_history_np[0],'r',test_loss_history_np[13],'g')   \n",
        "plt.xlabel('номер обучения')\n",
        "plt.ylabel('точность обучения')\n",
        "plt.show()\n",
        "print('Красная линия - весь график(все эпохи) с максимальное значение функции потерь на последней эпохе обучения',\n",
        "      '\\nЗеленая линия - минимальная точность  на последнй эпохе обучения')"
      ],
      "execution_count": 48,
      "outputs": [
        {
          "output_type": "display_data",
          "data": {
            "image/png": "[encoded data removed]",
            "text/plain": [
              "<Figure size 720x360 with 1 Axes>"
            ]
          },
          "metadata": {
            "tags": [],
            "needs_background": "light"
          }
        },
        {
          "output_type": "stream",
          "text": [
            "Красная линия - весь график(все эпохи) с максимальное значение функции потерь на последней эпохе обучения \n",
            "Зеленая линия - минимальная точность  на последнй эпохе обучения\n"
          ],
          "name": "stdout"
        }
      ]
    },
    {
      "cell_type": "code",
      "metadata": {
        "id": "95EsZm8k8n4K",
        "colab_type": "code",
        "colab": {}
      },
      "source": [
        "# save numpy array as csv file\n",
        "from numpy import asarray\n",
        "from numpy import savetxt\n",
        "# define data\n",
        "# save to csv file\n",
        "savetxt('26test_loss_history_np.csv', test_loss_history_np, delimiter=',')\n",
        "savetxt('26test_accuracy_history_np.csv', test_accuracy_history_np, delimiter=',')\n"
      ],
      "execution_count": 0,
      "outputs": []
    },
    {
      "cell_type": "code",
      "metadata": {
        "id": "SKrP5-LaF4oK",
        "colab_type": "code",
        "colab": {}
      },
      "source": [
        ""
      ],
      "execution_count": 0,
      "outputs": []
    }
  ]
}